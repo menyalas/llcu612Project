{
 "cells": [
  {
   "cell_type": "markdown",
   "metadata": {},
   "source": [
    "<h1>Descriptive Statistics for tweetDate & authorLocation</h1>"
   ]
  },
  {
   "cell_type": "markdown",
   "metadata": {},
   "source": [
    "<h3>Packages & Options</h3>"
   ]
  },
  {
   "cell_type": "code",
   "execution_count": 1,
   "metadata": {},
   "outputs": [],
   "source": [
    "import pandas as pd\n",
    "pd.set_option('display.max_colwidth', -1)"
   ]
  },
  {
   "cell_type": "code",
   "execution_count": 2,
   "metadata": {},
   "outputs": [],
   "source": [
    "import matplotlib"
   ]
  },
  {
   "cell_type": "code",
   "execution_count": 3,
   "metadata": {},
   "outputs": [],
   "source": [
    "import dateutil"
   ]
  },
  {
   "cell_type": "code",
   "execution_count": 73,
   "metadata": {},
   "outputs": [],
   "source": [
    "import re"
   ]
  },
  {
   "cell_type": "markdown",
   "metadata": {},
   "source": [
    "<h3>Import Data</h3>"
   ]
  },
  {
   "cell_type": "code",
   "execution_count": 4,
   "metadata": {},
   "outputs": [],
   "source": [
    "df = pd.read_pickle('../20190327_AM_Descriptives')"
   ]
  },
  {
   "cell_type": "code",
   "execution_count": 5,
   "metadata": {
    "scrolled": true
   },
   "outputs": [
    {
     "data": {
      "text/html": [
       "<div>\n",
       "<style scoped>\n",
       "    .dataframe tbody tr th:only-of-type {\n",
       "        vertical-align: middle;\n",
       "    }\n",
       "\n",
       "    .dataframe tbody tr th {\n",
       "        vertical-align: top;\n",
       "    }\n",
       "\n",
       "    .dataframe thead th {\n",
       "        text-align: right;\n",
       "    }\n",
       "</style>\n",
       "<table border=\"1\" class=\"dataframe\">\n",
       "  <thead>\n",
       "    <tr style=\"text-align: right;\">\n",
       "      <th></th>\n",
       "      <th>authorFollower</th>\n",
       "      <th>authorFriend</th>\n",
       "      <th>authorLang</th>\n",
       "      <th>authorLocation</th>\n",
       "      <th>authorPicture</th>\n",
       "      <th>authorScreen</th>\n",
       "      <th>authorScreen_original</th>\n",
       "      <th>tweetID</th>\n",
       "      <th>tweetID_original</th>\n",
       "      <th>tweetMethod</th>\n",
       "      <th>tweetTimeDate</th>\n",
       "      <th>tweetURL</th>\n",
       "      <th>authorLang_new</th>\n",
       "      <th>authorLocation_new</th>\n",
       "      <th>authorPicture_new</th>\n",
       "      <th>tweetMethod_new</th>\n",
       "      <th>tweetTimeDate_new</th>\n",
       "    </tr>\n",
       "  </thead>\n",
       "  <tbody>\n",
       "    <tr>\n",
       "      <th>0</th>\n",
       "      <td>197</td>\n",
       "      <td>579</td>\n",
       "      <td>en</td>\n",
       "      <td>NaN</td>\n",
       "      <td>http://abs.twimg.com/sticky/default_profile_images/default_profile_normal.png</td>\n",
       "      <td>darleneclarke5</td>\n",
       "      <td>NaN</td>\n",
       "      <td>1.10272e+18</td>\n",
       "      <td>nan</td>\n",
       "      <td>&lt;a href=\"http://twitter.com\" rel=\"nofollow\"&gt;Twitter Web Client&lt;/a&gt;</td>\n",
       "      <td>Mon Mar 04 23:59:47 +0000 2019</td>\n",
       "      <td>http://twitter.com/darleneclarke5/statuses/1102720324875894785</td>\n",
       "      <td>en</td>\n",
       "      <td>NaN</td>\n",
       "      <td>http://abs.twimg.com/sticky/default_profile_images/default_profile_normal.png</td>\n",
       "      <td>&lt;a href=\"http://twitter.com\" rel=\"nofollow\"&gt;Twitter Web Client&lt;/a&gt;</td>\n",
       "      <td>2019-03-04 23:59:47+00:00</td>\n",
       "    </tr>\n",
       "  </tbody>\n",
       "</table>\n",
       "</div>"
      ],
      "text/plain": [
       "   authorFollower  authorFriend authorLang authorLocation  \\\n",
       "0  197             579           en         NaN             \n",
       "\n",
       "                                                                   authorPicture  \\\n",
       "0  http://abs.twimg.com/sticky/default_profile_images/default_profile_normal.png   \n",
       "\n",
       "     authorScreen authorScreen_original      tweetID tweetID_original  \\\n",
       "0  darleneclarke5  NaN                   1.10272e+18  nan               \n",
       "\n",
       "                                                          tweetMethod  \\\n",
       "0  <a href=\"http://twitter.com\" rel=\"nofollow\">Twitter Web Client</a>   \n",
       "\n",
       "                    tweetTimeDate  \\\n",
       "0  Mon Mar 04 23:59:47 +0000 2019   \n",
       "\n",
       "                                                         tweetURL  \\\n",
       "0  http://twitter.com/darleneclarke5/statuses/1102720324875894785   \n",
       "\n",
       "  authorLang_new authorLocation_new  \\\n",
       "0  en             NaN                 \n",
       "\n",
       "                                                               authorPicture_new  \\\n",
       "0  http://abs.twimg.com/sticky/default_profile_images/default_profile_normal.png   \n",
       "\n",
       "                                                      tweetMethod_new  \\\n",
       "0  <a href=\"http://twitter.com\" rel=\"nofollow\">Twitter Web Client</a>   \n",
       "\n",
       "          tweetTimeDate_new  \n",
       "0 2019-03-04 23:59:47+00:00  "
      ]
     },
     "execution_count": 5,
     "metadata": {},
     "output_type": "execute_result"
    }
   ],
   "source": [
    "df[0:1]"
   ]
  },
  {
   "cell_type": "code",
   "execution_count": 6,
   "metadata": {},
   "outputs": [
    {
     "name": "stdout",
     "output_type": "stream",
     "text": [
      "<class 'pandas.core.frame.DataFrame'>\n",
      "RangeIndex: 123524 entries, 0 to 123523\n",
      "Data columns (total 17 columns):\n",
      "authorFollower           123524 non-null int64\n",
      "authorFriend             123524 non-null int64\n",
      "authorLang               123524 non-null object\n",
      "authorLocation           85206 non-null object\n",
      "authorPicture            123524 non-null object\n",
      "authorScreen             123524 non-null object\n",
      "authorScreen_original    9666 non-null object\n",
      "tweetID                  123524 non-null object\n",
      "tweetID_original         123524 non-null object\n",
      "tweetMethod              123524 non-null object\n",
      "tweetTimeDate            123524 non-null object\n",
      "tweetURL                 123524 non-null object\n",
      "authorLang_new           123524 non-null category\n",
      "authorLocation_new       85206 non-null category\n",
      "authorPicture_new        123524 non-null category\n",
      "tweetMethod_new          123524 non-null category\n",
      "tweetTimeDate_new        123524 non-null datetime64[ns, tzutc()]\n",
      "dtypes: category(4), datetime64[ns, tzutc()](1), int64(2), object(10)\n",
      "memory usage: 14.2+ MB\n"
     ]
    }
   ],
   "source": [
    "df.info()"
   ]
  },
  {
   "cell_type": "markdown",
   "metadata": {},
   "source": [
    "<h3>Recode authorLocation</h3>"
   ]
  },
  {
   "cell_type": "code",
   "execution_count": 7,
   "metadata": {},
   "outputs": [
    {
     "data": {
      "text/plain": [
       "United States              3475\n",
       "USA                        1187\n",
       "California, USA            1027\n",
       "Texas, USA                 932 \n",
       "Florida, USA               857 \n",
       "Washington, DC             680 \n",
       "London                     652 \n",
       "London, England            648 \n",
       "Canada                     561 \n",
       "United Kingdom             530 \n",
       "England, United Kingdom    516 \n",
       "Los Angeles, CA            476 \n",
       "New York, NY               475 \n",
       "Australia                  391 \n",
       "Texas                      382 \n",
       "Name: authorLocation, dtype: int64"
      ]
     },
     "execution_count": 7,
     "metadata": {},
     "output_type": "execute_result"
    }
   ],
   "source": [
    "df['authorLocation'].value_counts()[0:15]"
   ]
  },
  {
   "cell_type": "markdown",
   "metadata": {},
   "source": [
    "I would like to recode the data into these levels:\n",
    "<ul><li>Group 1: USA-Northeast</li>\n",
    "    <li>Group 2: USA-Southeast</li>\n",
    "    <li>Group 3: USA-Midwest</li>\n",
    "    <li>Group 4: USA-Southwest</li>\n",
    "    <li>Group 5: USA-Coastal West</li>\n",
    "    <li>Group 6: USA-Mountain West</li>\n",
    "    <li>Group 3: Non USA</li></ul>"
   ]
  },
  {
   "cell_type": "markdown",
   "metadata": {},
   "source": [
    "Here is a csv mapping state names and abbreviations to regions."
   ]
  },
  {
   "cell_type": "code",
   "execution_count": 8,
   "metadata": {},
   "outputs": [],
   "source": [
    "usRegions = pd.read_csv('https://raw.githubusercontent.com/cphalpert/census-regions/master/us%20census%20bureau%20regions%20and%20divisions.csv')"
   ]
  },
  {
   "cell_type": "code",
   "execution_count": 9,
   "metadata": {},
   "outputs": [
    {
     "data": {
      "text/html": [
       "<div>\n",
       "<style scoped>\n",
       "    .dataframe tbody tr th:only-of-type {\n",
       "        vertical-align: middle;\n",
       "    }\n",
       "\n",
       "    .dataframe tbody tr th {\n",
       "        vertical-align: top;\n",
       "    }\n",
       "\n",
       "    .dataframe thead th {\n",
       "        text-align: right;\n",
       "    }\n",
       "</style>\n",
       "<table border=\"1\" class=\"dataframe\">\n",
       "  <thead>\n",
       "    <tr style=\"text-align: right;\">\n",
       "      <th></th>\n",
       "      <th>State</th>\n",
       "      <th>State Code</th>\n",
       "      <th>Region</th>\n",
       "      <th>Division</th>\n",
       "    </tr>\n",
       "  </thead>\n",
       "  <tbody>\n",
       "    <tr>\n",
       "      <th>0</th>\n",
       "      <td>Alaska</td>\n",
       "      <td>AK</td>\n",
       "      <td>West</td>\n",
       "      <td>Pacific</td>\n",
       "    </tr>\n",
       "    <tr>\n",
       "      <th>1</th>\n",
       "      <td>Alabama</td>\n",
       "      <td>AL</td>\n",
       "      <td>South</td>\n",
       "      <td>East South Central</td>\n",
       "    </tr>\n",
       "    <tr>\n",
       "      <th>2</th>\n",
       "      <td>Arkansas</td>\n",
       "      <td>AR</td>\n",
       "      <td>South</td>\n",
       "      <td>West South Central</td>\n",
       "    </tr>\n",
       "    <tr>\n",
       "      <th>3</th>\n",
       "      <td>Arizona</td>\n",
       "      <td>AZ</td>\n",
       "      <td>West</td>\n",
       "      <td>Mountain</td>\n",
       "    </tr>\n",
       "    <tr>\n",
       "      <th>4</th>\n",
       "      <td>California</td>\n",
       "      <td>CA</td>\n",
       "      <td>West</td>\n",
       "      <td>Pacific</td>\n",
       "    </tr>\n",
       "  </tbody>\n",
       "</table>\n",
       "</div>"
      ],
      "text/plain": [
       "        State State Code Region            Division\n",
       "0  Alaska      AK         West   Pacific           \n",
       "1  Alabama     AL         South  East South Central\n",
       "2  Arkansas    AR         South  West South Central\n",
       "3  Arizona     AZ         West   Mountain          \n",
       "4  California  CA         West   Pacific           "
      ]
     },
     "execution_count": 9,
     "metadata": {},
     "output_type": "execute_result"
    }
   ],
   "source": [
    "usRegions.head()"
   ]
  },
  {
   "cell_type": "markdown",
   "metadata": {},
   "source": [
    "A bit of data prep:"
   ]
  },
  {
   "cell_type": "code",
   "execution_count": 10,
   "metadata": {},
   "outputs": [],
   "source": [
    "usRegions.rename(columns={'State Code':'StateCode'}, inplace=True)"
   ]
  },
  {
   "cell_type": "code",
   "execution_count": 11,
   "metadata": {},
   "outputs": [],
   "source": [
    "usRegions = usRegions.drop(['Division'], axis=1)"
   ]
  },
  {
   "cell_type": "code",
   "execution_count": 12,
   "metadata": {},
   "outputs": [
    {
     "name": "stdout",
     "output_type": "stream",
     "text": [
      "<class 'pandas.core.frame.DataFrame'>\n",
      "RangeIndex: 51 entries, 0 to 50\n",
      "Data columns (total 3 columns):\n",
      "State        51 non-null object\n",
      "StateCode    51 non-null object\n",
      "Region       51 non-null object\n",
      "dtypes: object(3)\n",
      "memory usage: 1.3+ KB\n"
     ]
    }
   ],
   "source": [
    "usRegions.info()"
   ]
  },
  {
   "cell_type": "markdown",
   "metadata": {},
   "source": [
    "<h3>The approach</h3>"
   ]
  },
  {
   "cell_type": "code",
   "execution_count": 14,
   "metadata": {},
   "outputs": [],
   "source": [
    "#Here's what I'd like to do:\n",
    "#For each row in usRegions:\n",
    "    #Attempt to match (using regex) usRegions[State] in df['authorLocation].\n",
    "        #If True, replace df['authorLocation_new] with usRegions['Region'].\n",
    "    #Attempt to match using regex the StateCode value in df['authorLocation].\n",
    "        #If True, replace df['authorLocation_new] with usRegions['Region'].\n",
    "#Print value counts for df['authorLocation_new]"
   ]
  },
  {
   "cell_type": "markdown",
   "metadata": {},
   "source": [
    "<h3>Test Data</h3>"
   ]
  },
  {
   "cell_type": "code",
   "execution_count": 15,
   "metadata": {},
   "outputs": [
    {
     "data": {
      "text/html": [
       "<div>\n",
       "<style scoped>\n",
       "    .dataframe tbody tr th:only-of-type {\n",
       "        vertical-align: middle;\n",
       "    }\n",
       "\n",
       "    .dataframe tbody tr th {\n",
       "        vertical-align: top;\n",
       "    }\n",
       "\n",
       "    .dataframe thead th {\n",
       "        text-align: right;\n",
       "    }\n",
       "</style>\n",
       "<table border=\"1\" class=\"dataframe\">\n",
       "  <thead>\n",
       "    <tr style=\"text-align: right;\">\n",
       "      <th></th>\n",
       "      <th>State</th>\n",
       "      <th>StateCode</th>\n",
       "      <th>Region</th>\n",
       "    </tr>\n",
       "  </thead>\n",
       "  <tbody>\n",
       "    <tr>\n",
       "      <th>0</th>\n",
       "      <td>Alaska</td>\n",
       "      <td>AK</td>\n",
       "      <td>West</td>\n",
       "    </tr>\n",
       "    <tr>\n",
       "      <th>1</th>\n",
       "      <td>Alabama</td>\n",
       "      <td>AL</td>\n",
       "      <td>South</td>\n",
       "    </tr>\n",
       "    <tr>\n",
       "      <th>2</th>\n",
       "      <td>Arkansas</td>\n",
       "      <td>AR</td>\n",
       "      <td>South</td>\n",
       "    </tr>\n",
       "    <tr>\n",
       "      <th>3</th>\n",
       "      <td>Arizona</td>\n",
       "      <td>AZ</td>\n",
       "      <td>West</td>\n",
       "    </tr>\n",
       "    <tr>\n",
       "      <th>4</th>\n",
       "      <td>California</td>\n",
       "      <td>CA</td>\n",
       "      <td>West</td>\n",
       "    </tr>\n",
       "  </tbody>\n",
       "</table>\n",
       "</div>"
      ],
      "text/plain": [
       "        State StateCode Region\n",
       "0  Alaska      AK        West \n",
       "1  Alabama     AL        South\n",
       "2  Arkansas    AR        South\n",
       "3  Arizona     AZ        West \n",
       "4  California  CA        West "
      ]
     },
     "execution_count": 15,
     "metadata": {},
     "output_type": "execute_result"
    }
   ],
   "source": [
    "df1 = usRegions[0:5]\n",
    "df1"
   ]
  },
  {
   "cell_type": "code",
   "execution_count": 79,
   "metadata": {},
   "outputs": [
    {
     "data": {
      "text/html": [
       "<div>\n",
       "<style scoped>\n",
       "    .dataframe tbody tr th:only-of-type {\n",
       "        vertical-align: middle;\n",
       "    }\n",
       "\n",
       "    .dataframe tbody tr th {\n",
       "        vertical-align: top;\n",
       "    }\n",
       "\n",
       "    .dataframe thead th {\n",
       "        text-align: right;\n",
       "    }\n",
       "</style>\n",
       "<table border=\"1\" class=\"dataframe\">\n",
       "  <thead>\n",
       "    <tr style=\"text-align: right;\">\n",
       "      <th></th>\n",
       "      <th>authorLocation</th>\n",
       "      <th>authorLocation_new</th>\n",
       "    </tr>\n",
       "  </thead>\n",
       "  <tbody>\n",
       "    <tr>\n",
       "      <th>10</th>\n",
       "      <td>NaN</td>\n",
       "      <td>NaN</td>\n",
       "    </tr>\n",
       "    <tr>\n",
       "      <th>11</th>\n",
       "      <td>California, USA</td>\n",
       "      <td>California, USA</td>\n",
       "    </tr>\n",
       "    <tr>\n",
       "      <th>12</th>\n",
       "      <td>Florida, USA</td>\n",
       "      <td>Florida, USA</td>\n",
       "    </tr>\n",
       "    <tr>\n",
       "      <th>13</th>\n",
       "      <td>NaN</td>\n",
       "      <td>NaN</td>\n",
       "    </tr>\n",
       "    <tr>\n",
       "      <th>14</th>\n",
       "      <td>NaN</td>\n",
       "      <td>NaN</td>\n",
       "    </tr>\n",
       "    <tr>\n",
       "      <th>15</th>\n",
       "      <td>NaN</td>\n",
       "      <td>NaN</td>\n",
       "    </tr>\n",
       "    <tr>\n",
       "      <th>16</th>\n",
       "      <td>Neo Swabia</td>\n",
       "      <td>Neo Swabia</td>\n",
       "    </tr>\n",
       "    <tr>\n",
       "      <th>17</th>\n",
       "      <td>NaN</td>\n",
       "      <td>NaN</td>\n",
       "    </tr>\n",
       "    <tr>\n",
       "      <th>18</th>\n",
       "      <td>TX</td>\n",
       "      <td>TX</td>\n",
       "    </tr>\n",
       "    <tr>\n",
       "      <th>19</th>\n",
       "      <td>Cities of Corruption</td>\n",
       "      <td>Cities of Corruption</td>\n",
       "    </tr>\n",
       "  </tbody>\n",
       "</table>\n",
       "</div>"
      ],
      "text/plain": [
       "           authorLocation     authorLocation_new\n",
       "10  NaN                    NaN                  \n",
       "11  California, USA        California, USA      \n",
       "12  Florida, USA           Florida, USA         \n",
       "13  NaN                    NaN                  \n",
       "14  NaN                    NaN                  \n",
       "15  NaN                    NaN                  \n",
       "16  Neo Swabia             Neo Swabia           \n",
       "17  NaN                    NaN                  \n",
       "18  TX                     TX                   \n",
       "19  Cities of Corruption   Cities of Corruption "
      ]
     },
     "execution_count": 79,
     "metadata": {},
     "output_type": "execute_result"
    }
   ],
   "source": [
    "df2 = df[{'authorLocation_new','authorLocation'}][10:20]\n",
    "df2"
   ]
  },
  {
   "cell_type": "code",
   "execution_count": 17,
   "metadata": {},
   "outputs": [
    {
     "name": "stdout",
     "output_type": "stream",
     "text": [
      "<class 'pandas.core.frame.DataFrame'>\n",
      "RangeIndex: 5 entries, 0 to 4\n",
      "Data columns (total 3 columns):\n",
      "State        5 non-null object\n",
      "StateCode    5 non-null object\n",
      "Region       5 non-null object\n",
      "dtypes: object(3)\n",
      "memory usage: 200.0+ bytes\n"
     ]
    }
   ],
   "source": [
    "df1.info()"
   ]
  },
  {
   "cell_type": "code",
   "execution_count": 18,
   "metadata": {},
   "outputs": [
    {
     "name": "stdout",
     "output_type": "stream",
     "text": [
      "<class 'pandas.core.frame.DataFrame'>\n",
      "RangeIndex: 40 entries, 10 to 49\n",
      "Data columns (total 2 columns):\n",
      "authorLocation        24 non-null object\n",
      "authorLocation_new    24 non-null category\n",
      "dtypes: category(1), object(1)\n",
      "memory usage: 205.4+ KB\n"
     ]
    }
   ],
   "source": [
    "df2.info()"
   ]
  },
  {
   "cell_type": "markdown",
   "metadata": {},
   "source": [
    "Not making any progress, so I will attempt the simpler approach, which recodes authorLocation simply into US or not-US."
   ]
  },
  {
   "cell_type": "code",
   "execution_count": 82,
   "metadata": {},
   "outputs": [
    {
     "data": {
      "text/plain": [
       "United States      3475\n",
       "USA                1187\n",
       "California, USA    1027\n",
       "Texas, USA         932 \n",
       "Florida, USA       857 \n",
       "Name: authorLocation, dtype: int64"
      ]
     },
     "execution_count": 82,
     "metadata": {},
     "output_type": "execute_result"
    }
   ],
   "source": [
    "df['authorLocation'].value_counts()[0:5]"
   ]
  },
  {
   "cell_type": "code",
   "execution_count": 36,
   "metadata": {},
   "outputs": [
    {
     "data": {
      "text/plain": [
       "False    73056\n",
       "True     12150\n",
       "Name: authorLocation, dtype: int64"
      ]
     },
     "execution_count": 36,
     "metadata": {},
     "output_type": "execute_result"
    }
   ],
   "source": [
    "df['authorLocation'].str.contains('.*USA.*', regex=True).value_counts()"
   ]
  },
  {
   "cell_type": "code",
   "execution_count": 37,
   "metadata": {},
   "outputs": [],
   "source": [
    "df['authorLocation_usOther'] = df['authorLocation']"
   ]
  },
  {
   "cell_type": "code",
   "execution_count": 38,
   "metadata": {},
   "outputs": [],
   "source": [
    "df['authorLocation_usOther'] = df['authorLocation_usOther'].replace(regex=r'.*USA.*', value='United States')"
   ]
  },
  {
   "cell_type": "code",
   "execution_count": 39,
   "metadata": {},
   "outputs": [
    {
     "data": {
      "text/plain": [
       "United States              15625\n",
       "Washington, DC             680  \n",
       "London                     652  \n",
       "London, England            648  \n",
       "Canada                     561  \n",
       "United Kingdom             530  \n",
       "England, United Kingdom    516  \n",
       "Los Angeles, CA            476  \n",
       "New York, NY               475  \n",
       "Australia                  391  \n",
       "Texas                      382  \n",
       "UK                         375  \n",
       "France                     339  \n",
       "Chicago, IL                337  \n",
       "Earth                      298  \n",
       "Austin, TX                 289  \n",
       "California                 243  \n",
       "Paris, France              225  \n",
       "Houston, TX                222  \n",
       "New York                   215  \n",
       "Name: authorLocation_usOther, dtype: int64"
      ]
     },
     "execution_count": 39,
     "metadata": {},
     "output_type": "execute_result"
    }
   ],
   "source": [
    "df['authorLocation_usOther'].value_counts()[0:20]"
   ]
  },
  {
   "cell_type": "markdown",
   "metadata": {},
   "source": [
    "Also not making any progress on trying to match and recode state abbreviation mentions. Sunyam / Stefan: Any suggestions? Ideally, we will recode any authorLocations that mention a US state or state abbreviation to the appropriate region, according to the usRegions dataframe."
   ]
  },
  {
   "cell_type": "markdown",
   "metadata": {},
   "source": [
    "<h3>Create new date-only variable</h3>"
   ]
  },
  {
   "cell_type": "code",
   "execution_count": 42,
   "metadata": {},
   "outputs": [
    {
     "data": {
      "text/plain": [
       "Tue Feb 26 22:55:03 +0000 2019    29\n",
       "Name: tweetTimeDate, dtype: int64"
      ]
     },
     "execution_count": 42,
     "metadata": {},
     "output_type": "execute_result"
    }
   ],
   "source": [
    "df['tweetTimeDate'].value_counts()[0:1]"
   ]
  },
  {
   "cell_type": "code",
   "execution_count": 43,
   "metadata": {},
   "outputs": [],
   "source": [
    "df['tweetDate'] = df['tweetTimeDate'].replace(regex=r'\\s\\d{2}:.*:\\d{2}\\s.{5}', value='')"
   ]
  },
  {
   "cell_type": "code",
   "execution_count": 44,
   "metadata": {},
   "outputs": [
    {
     "data": {
      "text/plain": [
       "Thu Feb 28 2019    2913\n",
       "Name: tweetDate, dtype: int64"
      ]
     },
     "execution_count": 44,
     "metadata": {},
     "output_type": "execute_result"
    }
   ],
   "source": [
    "df['tweetDate'].value_counts()[0:1]"
   ]
  },
  {
   "cell_type": "code",
   "execution_count": 45,
   "metadata": {},
   "outputs": [],
   "source": [
    "df['tweetDate_new'] = df['tweetDate'].apply(dateutil.parser.parse, dayfirst=True)"
   ]
  },
  {
   "cell_type": "code",
   "execution_count": 46,
   "metadata": {},
   "outputs": [
    {
     "data": {
      "text/plain": [
       "0   2019-03-04\n",
       "Name: tweetDate_new, dtype: datetime64[ns]"
      ]
     },
     "execution_count": 46,
     "metadata": {},
     "output_type": "execute_result"
    }
   ],
   "source": [
    "df['tweetDate_new'][0:1]"
   ]
  },
  {
   "cell_type": "markdown",
   "metadata": {},
   "source": [
    "<h3>Summary Statistics</h3>"
   ]
  },
  {
   "cell_type": "markdown",
   "metadata": {},
   "source": [
    "To Do: Stats for authorLocation"
   ]
  },
  {
   "cell_type": "code",
   "execution_count": 66,
   "metadata": {},
   "outputs": [
    {
     "data": {
      "text/plain": [
       "2019-02-28    2913\n",
       "2019-01-26    2910\n",
       "2019-02-22    2909\n",
       "2019-02-10    2906\n",
       "2019-02-04    2905\n",
       "2019-02-08    2902\n",
       "2019-02-11    2901\n",
       "2019-01-28    2900\n",
       "2019-03-01    2897\n",
       "2019-02-23    2896\n",
       "2019-02-09    2895\n",
       "2019-01-27    2891\n",
       "2019-03-04    2891\n",
       "2019-03-02    2889\n",
       "2019-02-18    2885\n",
       "2019-02-26    2884\n",
       "2019-01-25    2884\n",
       "2019-03-03    2882\n",
       "2019-02-17    2881\n",
       "2019-02-05    2880\n",
       "2019-02-21    2878\n",
       "2019-02-12    2877\n",
       "2019-02-24    2876\n",
       "2019-02-25    2876\n",
       "2019-02-19    2872\n",
       "2019-01-31    2870\n",
       "2019-01-30    2866\n",
       "2019-02-27    2866\n",
       "2019-01-23    2863\n",
       "2019-02-15    2863\n",
       "2019-02-03    2862\n",
       "2019-02-20    2859\n",
       "2019-01-22    2857\n",
       "2019-02-14    2855\n",
       "2019-01-24    2854\n",
       "2019-02-06    2853\n",
       "2019-02-02    2851\n",
       "2019-02-07    2848\n",
       "2019-01-21    2848\n",
       "2019-01-29    2841\n",
       "2019-02-01    2825\n",
       "2019-02-16    2786\n",
       "2019-02-13    2777\n",
       "Name: tweetDate_new, dtype: int64"
      ]
     },
     "execution_count": 66,
     "metadata": {},
     "output_type": "execute_result"
    }
   ],
   "source": [
    "df['tweetDate_new'].value_counts()"
   ]
  },
  {
   "cell_type": "code",
   "execution_count": 65,
   "metadata": {},
   "outputs": [
    {
     "data": {
      "text/plain": [
       "<matplotlib.axes._subplots.AxesSubplot at 0x11cf73160>"
      ]
     },
     "execution_count": 65,
     "metadata": {},
     "output_type": "execute_result"
    },
    {
     "data": {
      "image/png": "[encoded data removed]",
      "text/plain": [
       "<Figure size 432x288 with 1 Axes>"
      ]
     },
     "metadata": {
      "needs_background": "light"
     },
     "output_type": "display_data"
    }
   ],
   "source": [
    "df['tweetDate_new'].value_counts().plot()"
   ]
  },
  {
   "cell_type": "markdown",
   "metadata": {},
   "source": [
    "When we group tweets by day, we no longer see the Feb 26 spike, although a nearby date does have the greatest number of tweets. Still, it might be worth examining the late-hour tweets on Feb 26 that generated the spike when the time is included."
   ]
  },
  {
   "cell_type": "markdown",
   "metadata": {},
   "source": [
    "<h3>Notes and code for later use</h3>"
   ]
  },
  {
   "cell_type": "code",
   "execution_count": 67,
   "metadata": {},
   "outputs": [],
   "source": [
    "states = usRegions['State'].tolist()"
   ]
  },
  {
   "cell_type": "code",
   "execution_count": 68,
   "metadata": {},
   "outputs": [],
   "source": [
    "stateCodes = usRegions['StateCode'].tolist()"
   ]
  },
  {
   "cell_type": "code",
   "execution_count": 69,
   "metadata": {},
   "outputs": [],
   "source": [
    "regions = usRegions['Region'].tolist()"
   ]
  },
  {
   "cell_type": "code",
   "execution_count": 78,
   "metadata": {},
   "outputs": [
    {
     "data": {
      "text/plain": [
       "True     83549\n",
       "False    1657 \n",
       "Name: authorLocation, dtype: int64"
      ]
     },
     "execution_count": 78,
     "metadata": {},
     "output_type": "execute_result"
    }
   ],
   "source": [
    "df['authorLocation'].str.contains('.*' + str(regions) + r'.*', regex=True).value_counts()"
   ]
  }
 ],
 "metadata": {
  "kernelspec": {
   "display_name": "Python 3",
   "language": "python",
   "name": "python3"
  },
  "language_info": {
   "codemirror_mode": {
    "name": "ipython",
    "version": 3
   },
   "file_extension": ".py",
   "mimetype": "text/x-python",
   "name": "python",
   "nbconvert_exporter": "python",
   "pygments_lexer": "ipython3",
   "version": "3.6.6"
  }
 },
 "nbformat": 4,
 "nbformat_minor": 2
}
