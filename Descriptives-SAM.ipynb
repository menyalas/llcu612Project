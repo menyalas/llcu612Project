{
 "cells": [
  {
   "cell_type": "markdown",
   "metadata": {},
   "source": [
    "<h1>Descriptive Statistics of Variables other than \"Text\" and \"Entities\"</h1>"
   ]
  },
  {
   "cell_type": "markdown",
   "metadata": {},
   "source": [
    "<h3>Packages & Options</h3>"
   ]
  },
  {
   "cell_type": "code",
   "execution_count": 109,
   "metadata": {},
   "outputs": [],
   "source": [
    "import pandas as pd\n",
    "pd.set_option('display.max_colwidth', -1)"
   ]
  },
  {
   "cell_type": "code",
   "execution_count": 110,
   "metadata": {},
   "outputs": [],
   "source": [
    "import matplotlib"
   ]
  },
  {
   "cell_type": "code",
   "execution_count": 111,
   "metadata": {},
   "outputs": [],
   "source": [
    "import dateutil"
   ]
  },
  {
   "cell_type": "markdown",
   "metadata": {},
   "source": [
    "<h3>Import & Prepare Data for Analysis</h3>"
   ]
  },
  {
   "cell_type": "code",
   "execution_count": 112,
   "metadata": {},
   "outputs": [
    {
     "data": {
      "text/html": [
       "<div>\n",
       "<style scoped>\n",
       "    .dataframe tbody tr th:only-of-type {\n",
       "        vertical-align: middle;\n",
       "    }\n",
       "\n",
       "    .dataframe tbody tr th {\n",
       "        vertical-align: top;\n",
       "    }\n",
       "\n",
       "    .dataframe thead th {\n",
       "        text-align: right;\n",
       "    }\n",
       "</style>\n",
       "<table border=\"1\" class=\"dataframe\">\n",
       "  <thead>\n",
       "    <tr style=\"text-align: right;\">\n",
       "      <th></th>\n",
       "      <th>id_str</th>\n",
       "      <th>from_user</th>\n",
       "      <th>text</th>\n",
       "      <th>created_at</th>\n",
       "      <th>time</th>\n",
       "      <th>geo_coordinates</th>\n",
       "      <th>user_lang</th>\n",
       "      <th>in_reply_to_user_id_str</th>\n",
       "      <th>in_reply_to_screen_name</th>\n",
       "      <th>from_user_id_str</th>\n",
       "      <th>in_reply_to_status_id_str</th>\n",
       "      <th>source</th>\n",
       "      <th>profile_image_url</th>\n",
       "      <th>user_followers_count</th>\n",
       "      <th>user_friends_count</th>\n",
       "      <th>user_location</th>\n",
       "      <th>status_url</th>\n",
       "      <th>entities_str</th>\n",
       "    </tr>\n",
       "  </thead>\n",
       "  <tbody>\n",
       "    <tr>\n",
       "      <th>1</th>\n",
       "      <td>1.102720e+18</td>\n",
       "      <td>BlueelvisEric</td>\n",
       "      <td>RT @1776Stonewall: https://t.co/CyucESMlFM  Texas health officials report that nearly 200 people contracted mumps in migrant detention facilities located across the state so far this fiscal year.</td>\n",
       "      <td>Mon Mar 04 23:59:40 +0000 2019</td>\n",
       "      <td>04/03/2019 23:59:40</td>\n",
       "      <td>NaN</td>\n",
       "      <td>en</td>\n",
       "      <td>NaN</td>\n",
       "      <td>NaN</td>\n",
       "      <td>3.109106e+09</td>\n",
       "      <td>NaN</td>\n",
       "      <td>&lt;a href=\"http://twitter.com/download/android\" rel=\"nofollow\"&gt;Twitter for Android&lt;/a&gt;</td>\n",
       "      <td>http://pbs.twimg.com/profile_images/1062099415421411333/EZCmOCeu_normal.jpg</td>\n",
       "      <td>940</td>\n",
       "      <td>225.0</td>\n",
       "      <td>top your momma</td>\n",
       "      <td>http://twitter.com/BlueelvisEric/statuses/1102720294035353606</td>\n",
       "      <td>{\"hashtags\":[],\"symbols\":[],\"user_mentions\":[{\"screen_name\":\"1776Stonewall\",\"name\":\"Stonewall Jackson\",\"id\":800086706678419500,\"id_str\":\"800086706678419456\",\"indices\":[3,17]}],\"urls\":[{\"url\":\"https://t.co/CyucESMlFM\",\"expanded_url\":\"https://www.breitbart.com/border/2019/03/04/200-cases-of-mumps-confirmed-in-texas-migrant-detention-centers/\",\"display_url\":\"breitbart.com/border/2019/03…\",\"indices\":[19,42]}]}</td>\n",
       "    </tr>\n",
       "    <tr>\n",
       "      <th>2</th>\n",
       "      <td>1.102720e+18</td>\n",
       "      <td>Potus16Abe</td>\n",
       "      <td>RT @EmeraldRobinson: Trump's base was promised a border wall, and the end of chain migration and birthright citizenship. People inside the administration who think they can pass amnesty bills and still win 2020 are playing with fire. https://t.co/36Fc7dxpNY</td>\n",
       "      <td>Mon Mar 04 23:59:38 +0000 2019</td>\n",
       "      <td>04/03/2019 23:59:38</td>\n",
       "      <td>NaN</td>\n",
       "      <td>en</td>\n",
       "      <td>NaN</td>\n",
       "      <td>NaN</td>\n",
       "      <td>1.083790e+18</td>\n",
       "      <td>NaN</td>\n",
       "      <td>&lt;a href=\"https://mobile.twitter.com\" rel=\"nofollow\"&gt;Twitter Web App&lt;/a&gt;</td>\n",
       "      <td>http://pbs.twimg.com/profile_images/1083792878655045632/zQMarxaz_normal.jpg</td>\n",
       "      <td>103</td>\n",
       "      <td>275.0</td>\n",
       "      <td>NaN</td>\n",
       "      <td>http://twitter.com/Potus16Abe/statuses/1102720285478928384</td>\n",
       "      <td>{\"hashtags\":[],\"symbols\":[],\"user_mentions\":[{\"screen_name\":\"EmeraldRobinson\",\"name\":\"Emerald Robinson\",\"id\":3932768472,\"id_str\":\"3932768472\",\"indices\":[3,19]}],\"urls\":[]}</td>\n",
       "    </tr>\n",
       "    <tr>\n",
       "      <th>3</th>\n",
       "      <td>1.102720e+18</td>\n",
       "      <td>soozbo</td>\n",
       "      <td>RT @AnjaKolibri: Australian humpback #whale population has recovered from near- #extinction linked to #hunting but new Queensland research warns that numbers could soon fall again due to the effects of #climate change: https://t.co/xGrouWcuNz … … … … … via @ABCNews</td>\n",
       "      <td>Mon Mar 04 23:59:34 +0000 2019</td>\n",
       "      <td>04/03/2019 23:59:34</td>\n",
       "      <td>NaN</td>\n",
       "      <td>en</td>\n",
       "      <td>NaN</td>\n",
       "      <td>NaN</td>\n",
       "      <td>7.967720e+17</td>\n",
       "      <td>NaN</td>\n",
       "      <td>&lt;a href=\"http://twitter.com/download/android\" rel=\"nofollow\"&gt;Twitter for Android&lt;/a&gt;</td>\n",
       "      <td>http://pbs.twimg.com/profile_images/1061628259761352707/45jSYb3T_normal.jpg</td>\n",
       "      <td>718</td>\n",
       "      <td>869.0</td>\n",
       "      <td>NaN</td>\n",
       "      <td>http://twitter.com/soozbo/statuses/1102720268726951937</td>\n",
       "      <td>{\"hashtags\":[{\"text\":\"whale\",\"indices\":[37,43]},{\"text\":\"extinction\",\"indices\":[80,91]},{\"text\":\"hunting\",\"indices\":[102,110]}],\"symbols\":[],\"user_mentions\":[{\"screen_name\":\"AnjaKolibri\",\"name\":\"Anja\",\"id\":1723193484,\"id_str\":\"1723193484\",\"indices\":[3,15]}],\"urls\":[]}</td>\n",
       "    </tr>\n",
       "    <tr>\n",
       "      <th>4</th>\n",
       "      <td>1.102720e+18</td>\n",
       "      <td>jp_dutch</td>\n",
       "      <td>RT @NinaDSchick: In what should come as no surprise, the Kremlin is actively promoting disruption &amp;amp; chaos in Europe's neighbourhood (as in Syria ahead of the migration crisis of 2015), to undermine the EU, especially on the issue of migrants/refugees.</td>\n",
       "      <td>Mon Mar 04 23:59:32 +0000 2019</td>\n",
       "      <td>04/03/2019 23:59:32</td>\n",
       "      <td>NaN</td>\n",
       "      <td>en</td>\n",
       "      <td>NaN</td>\n",
       "      <td>NaN</td>\n",
       "      <td>1.056307e+08</td>\n",
       "      <td>NaN</td>\n",
       "      <td>&lt;a href=\"http://twitter.com/download/iphone\" rel=\"nofollow\"&gt;Twitter for iPhone&lt;/a&gt;</td>\n",
       "      <td>http://pbs.twimg.com/profile_images/378800000757810411/851d42a8b7e7efd00eded4d6efff5587_normal.jpeg</td>\n",
       "      <td>666</td>\n",
       "      <td>481.0</td>\n",
       "      <td>Netherlands</td>\n",
       "      <td>http://twitter.com/jp_dutch/statuses/1102720262670290945</td>\n",
       "      <td>{\"hashtags\":[],\"symbols\":[],\"user_mentions\":[{\"screen_name\":\"NinaDSchick\",\"name\":\"Nina Schick\",\"id\":43081691,\"id_str\":\"43081691\",\"indices\":[3,15]}],\"urls\":[]}</td>\n",
       "    </tr>\n",
       "    <tr>\n",
       "      <th>5</th>\n",
       "      <td>1.102720e+18</td>\n",
       "      <td>RJ_Kendall</td>\n",
       "      <td>RT @ezralevant: Abdul Habash, a Syrian migrant to Canada, made a terrifying bomb threat against Jason Kenney. He and his dad told our reporter it’s no big deal — in fact, they’re mad the cops won’t give him his computer and phone back. #terrorists https://t.co/AujC0eU4Sk</td>\n",
       "      <td>Mon Mar 04 23:59:28 +0000 2019</td>\n",
       "      <td>04/03/2019 23:59:28</td>\n",
       "      <td>NaN</td>\n",
       "      <td>en</td>\n",
       "      <td>NaN</td>\n",
       "      <td>NaN</td>\n",
       "      <td>1.078316e+09</td>\n",
       "      <td>NaN</td>\n",
       "      <td>&lt;a href=\"http://twitter.com\" rel=\"nofollow\"&gt;Twitter Web Client&lt;/a&gt;</td>\n",
       "      <td>http://pbs.twimg.com/profile_images/696140281092141057/8PzKc_uT_normal.jpg</td>\n",
       "      <td>125</td>\n",
       "      <td>232.0</td>\n",
       "      <td>NaN</td>\n",
       "      <td>http://twitter.com/RJ_Kendall/statuses/1102720245624537088</td>\n",
       "      <td>{\"hashtags\":[],\"symbols\":[],\"user_mentions\":[{\"screen_name\":\"ezralevant\",\"name\":\"Ezra Levant 🍁\",\"id\":20878297,\"id_str\":\"20878297\",\"indices\":[3,14]}],\"urls\":[]}</td>\n",
       "    </tr>\n",
       "  </tbody>\n",
       "</table>\n",
       "</div>"
      ],
      "text/plain": [
       "         id_str      from_user  \\\n",
       "1  1.102720e+18  BlueelvisEric   \n",
       "2  1.102720e+18  Potus16Abe      \n",
       "3  1.102720e+18  soozbo          \n",
       "4  1.102720e+18  jp_dutch        \n",
       "5  1.102720e+18  RJ_Kendall      \n",
       "\n",
       "                                                                                                                                                                                                                                                                              text  \\\n",
       "1  RT @1776Stonewall: https://t.co/CyucESMlFM  Texas health officials report that nearly 200 people contracted mumps in migrant detention facilities located across the state so far this fiscal year.                                                                               \n",
       "2  RT @EmeraldRobinson: Trump's base was promised a border wall, and the end of chain migration and birthright citizenship. People inside the administration who think they can pass amnesty bills and still win 2020 are playing with fire. https://t.co/36Fc7dxpNY                 \n",
       "3  RT @AnjaKolibri: Australian humpback #whale population has recovered from near- #extinction linked to #hunting but new Queensland research warns that numbers could soon fall again due to the effects of #climate change: https://t.co/xGrouWcuNz … … … … … via @ABCNews         \n",
       "4  RT @NinaDSchick: In what should come as no surprise, the Kremlin is actively promoting disruption &amp; chaos in Europe's neighbourhood (as in Syria ahead of the migration crisis of 2015), to undermine the EU, especially on the issue of migrants/refugees.                   \n",
       "5  RT @ezralevant: Abdul Habash, a Syrian migrant to Canada, made a terrifying bomb threat against Jason Kenney. He and his dad told our reporter it’s no big deal — in fact, they’re mad the cops won’t give him his computer and phone back. #terrorists https://t.co/AujC0eU4Sk   \n",
       "\n",
       "                       created_at                 time geo_coordinates  \\\n",
       "1  Mon Mar 04 23:59:40 +0000 2019  04/03/2019 23:59:40  NaN              \n",
       "2  Mon Mar 04 23:59:38 +0000 2019  04/03/2019 23:59:38  NaN              \n",
       "3  Mon Mar 04 23:59:34 +0000 2019  04/03/2019 23:59:34  NaN              \n",
       "4  Mon Mar 04 23:59:32 +0000 2019  04/03/2019 23:59:32  NaN              \n",
       "5  Mon Mar 04 23:59:28 +0000 2019  04/03/2019 23:59:28  NaN              \n",
       "\n",
       "  user_lang  in_reply_to_user_id_str in_reply_to_screen_name  \\\n",
       "1  en       NaN                       NaN                      \n",
       "2  en       NaN                       NaN                      \n",
       "3  en       NaN                       NaN                      \n",
       "4  en       NaN                       NaN                      \n",
       "5  en       NaN                       NaN                      \n",
       "\n",
       "   from_user_id_str  in_reply_to_status_id_str  \\\n",
       "1  3.109106e+09     NaN                          \n",
       "2  1.083790e+18     NaN                          \n",
       "3  7.967720e+17     NaN                          \n",
       "4  1.056307e+08     NaN                          \n",
       "5  1.078316e+09     NaN                          \n",
       "\n",
       "                                                                                 source  \\\n",
       "1  <a href=\"http://twitter.com/download/android\" rel=\"nofollow\">Twitter for Android</a>   \n",
       "2  <a href=\"https://mobile.twitter.com\" rel=\"nofollow\">Twitter Web App</a>                \n",
       "3  <a href=\"http://twitter.com/download/android\" rel=\"nofollow\">Twitter for Android</a>   \n",
       "4  <a href=\"http://twitter.com/download/iphone\" rel=\"nofollow\">Twitter for iPhone</a>     \n",
       "5  <a href=\"http://twitter.com\" rel=\"nofollow\">Twitter Web Client</a>                     \n",
       "\n",
       "                                                                                     profile_image_url  \\\n",
       "1  http://pbs.twimg.com/profile_images/1062099415421411333/EZCmOCeu_normal.jpg                           \n",
       "2  http://pbs.twimg.com/profile_images/1083792878655045632/zQMarxaz_normal.jpg                           \n",
       "3  http://pbs.twimg.com/profile_images/1061628259761352707/45jSYb3T_normal.jpg                           \n",
       "4  http://pbs.twimg.com/profile_images/378800000757810411/851d42a8b7e7efd00eded4d6efff5587_normal.jpeg   \n",
       "5  http://pbs.twimg.com/profile_images/696140281092141057/8PzKc_uT_normal.jpg                            \n",
       "\n",
       "   user_followers_count  user_friends_count   user_location  \\\n",
       "1  940                   225.0               top your momma   \n",
       "2  103                   275.0               NaN              \n",
       "3  718                   869.0               NaN              \n",
       "4  666                   481.0               Netherlands      \n",
       "5  125                   232.0               NaN              \n",
       "\n",
       "                                                      status_url  \\\n",
       "1  http://twitter.com/BlueelvisEric/statuses/1102720294035353606   \n",
       "2  http://twitter.com/Potus16Abe/statuses/1102720285478928384      \n",
       "3  http://twitter.com/soozbo/statuses/1102720268726951937          \n",
       "4  http://twitter.com/jp_dutch/statuses/1102720262670290945        \n",
       "5  http://twitter.com/RJ_Kendall/statuses/1102720245624537088      \n",
       "\n",
       "                                                                                                                                                                                                                                                                                                                                                                                                                entities_str  \n",
       "1  {\"hashtags\":[],\"symbols\":[],\"user_mentions\":[{\"screen_name\":\"1776Stonewall\",\"name\":\"Stonewall Jackson\",\"id\":800086706678419500,\"id_str\":\"800086706678419456\",\"indices\":[3,17]}],\"urls\":[{\"url\":\"https://t.co/CyucESMlFM\",\"expanded_url\":\"https://www.breitbart.com/border/2019/03/04/200-cases-of-mumps-confirmed-in-texas-migrant-detention-centers/\",\"display_url\":\"breitbart.com/border/2019/03…\",\"indices\":[19,42]}]}  \n",
       "2  {\"hashtags\":[],\"symbols\":[],\"user_mentions\":[{\"screen_name\":\"EmeraldRobinson\",\"name\":\"Emerald Robinson\",\"id\":3932768472,\"id_str\":\"3932768472\",\"indices\":[3,19]}],\"urls\":[]}                                                                                                                                                                                                                                                \n",
       "3  {\"hashtags\":[{\"text\":\"whale\",\"indices\":[37,43]},{\"text\":\"extinction\",\"indices\":[80,91]},{\"text\":\"hunting\",\"indices\":[102,110]}],\"symbols\":[],\"user_mentions\":[{\"screen_name\":\"AnjaKolibri\",\"name\":\"Anja\",\"id\":1723193484,\"id_str\":\"1723193484\",\"indices\":[3,15]}],\"urls\":[]}                                                                                                                                               \n",
       "4  {\"hashtags\":[],\"symbols\":[],\"user_mentions\":[{\"screen_name\":\"NinaDSchick\",\"name\":\"Nina Schick\",\"id\":43081691,\"id_str\":\"43081691\",\"indices\":[3,15]}],\"urls\":[]}                                                                                                                                                                                                                                                             \n",
       "5  {\"hashtags\":[],\"symbols\":[],\"user_mentions\":[{\"screen_name\":\"ezralevant\",\"name\":\"Ezra Levant 🍁\",\"id\":20878297,\"id_str\":\"20878297\",\"indices\":[3,14]}],\"urls\":[]}                                                                                                                                                                                                                                                            "
      ]
     },
     "execution_count": 112,
     "metadata": {},
     "output_type": "execute_result"
    }
   ],
   "source": [
    "df = pd.read_csv('20190313_TW_MigrantMigration.csv')\n",
    "df[1:6]"
   ]
  },
  {
   "cell_type": "code",
   "execution_count": 113,
   "metadata": {},
   "outputs": [
    {
     "data": {
      "text/html": [
       "<div>\n",
       "<style scoped>\n",
       "    .dataframe tbody tr th:only-of-type {\n",
       "        vertical-align: middle;\n",
       "    }\n",
       "\n",
       "    .dataframe tbody tr th {\n",
       "        vertical-align: top;\n",
       "    }\n",
       "\n",
       "    .dataframe thead th {\n",
       "        text-align: right;\n",
       "    }\n",
       "</style>\n",
       "<table border=\"1\" class=\"dataframe\">\n",
       "  <thead>\n",
       "    <tr style=\"text-align: right;\">\n",
       "      <th></th>\n",
       "      <th>id_str</th>\n",
       "      <th>from_user</th>\n",
       "      <th>created_at</th>\n",
       "      <th>geo_coordinates</th>\n",
       "      <th>user_lang</th>\n",
       "      <th>in_reply_to_user_id_str</th>\n",
       "      <th>in_reply_to_screen_name</th>\n",
       "      <th>from_user_id_str</th>\n",
       "      <th>in_reply_to_status_id_str</th>\n",
       "      <th>source</th>\n",
       "      <th>profile_image_url</th>\n",
       "      <th>user_followers_count</th>\n",
       "      <th>user_friends_count</th>\n",
       "      <th>user_location</th>\n",
       "      <th>status_url</th>\n",
       "    </tr>\n",
       "  </thead>\n",
       "  <tbody>\n",
       "    <tr>\n",
       "      <th>1</th>\n",
       "      <td>1.102720e+18</td>\n",
       "      <td>BlueelvisEric</td>\n",
       "      <td>Mon Mar 04 23:59:40 +0000 2019</td>\n",
       "      <td>NaN</td>\n",
       "      <td>en</td>\n",
       "      <td>NaN</td>\n",
       "      <td>NaN</td>\n",
       "      <td>3.109106e+09</td>\n",
       "      <td>NaN</td>\n",
       "      <td>&lt;a href=\"http://twitter.com/download/android\" rel=\"nofollow\"&gt;Twitter for Android&lt;/a&gt;</td>\n",
       "      <td>http://pbs.twimg.com/profile_images/1062099415421411333/EZCmOCeu_normal.jpg</td>\n",
       "      <td>940</td>\n",
       "      <td>225.0</td>\n",
       "      <td>top your momma</td>\n",
       "      <td>http://twitter.com/BlueelvisEric/statuses/1102720294035353606</td>\n",
       "    </tr>\n",
       "  </tbody>\n",
       "</table>\n",
       "</div>"
      ],
      "text/plain": [
       "         id_str      from_user                      created_at  \\\n",
       "1  1.102720e+18  BlueelvisEric  Mon Mar 04 23:59:40 +0000 2019   \n",
       "\n",
       "  geo_coordinates user_lang  in_reply_to_user_id_str in_reply_to_screen_name  \\\n",
       "1  NaN             en       NaN                       NaN                      \n",
       "\n",
       "   from_user_id_str  in_reply_to_status_id_str  \\\n",
       "1  3.109106e+09     NaN                          \n",
       "\n",
       "                                                                                 source  \\\n",
       "1  <a href=\"http://twitter.com/download/android\" rel=\"nofollow\">Twitter for Android</a>   \n",
       "\n",
       "                                                             profile_image_url  \\\n",
       "1  http://pbs.twimg.com/profile_images/1062099415421411333/EZCmOCeu_normal.jpg   \n",
       "\n",
       "   user_followers_count  user_friends_count   user_location  \\\n",
       "1  940                   225.0               top your momma   \n",
       "\n",
       "                                                      status_url  \n",
       "1  http://twitter.com/BlueelvisEric/statuses/1102720294035353606  "
      ]
     },
     "execution_count": 113,
     "metadata": {},
     "output_type": "execute_result"
    }
   ],
   "source": [
    "#Drop the \"text\" and \"entities\" columns that Sunyam is working on. \n",
    "#Also dropping time because it is redundant with \"created_at\"\n",
    "df = df.drop(['text','time','entities_str'], axis=1)\n",
    "df[1:2]"
   ]
  },
  {
   "cell_type": "code",
   "execution_count": 114,
   "metadata": {},
   "outputs": [
    {
     "data": {
      "text/html": [
       "<div>\n",
       "<style scoped>\n",
       "    .dataframe tbody tr th:only-of-type {\n",
       "        vertical-align: middle;\n",
       "    }\n",
       "\n",
       "    .dataframe tbody tr th {\n",
       "        vertical-align: top;\n",
       "    }\n",
       "\n",
       "    .dataframe thead th {\n",
       "        text-align: right;\n",
       "    }\n",
       "</style>\n",
       "<table border=\"1\" class=\"dataframe\">\n",
       "  <thead>\n",
       "    <tr style=\"text-align: right;\">\n",
       "      <th></th>\n",
       "      <th>tweetID</th>\n",
       "      <th>authorScreen</th>\n",
       "      <th>tweetTimeDate</th>\n",
       "      <th>tweetGeo</th>\n",
       "      <th>authorLang</th>\n",
       "      <th>authorID_original</th>\n",
       "      <th>authorScreen_original</th>\n",
       "      <th>authorID</th>\n",
       "      <th>tweetID_original</th>\n",
       "      <th>tweetMethod</th>\n",
       "      <th>authorPicture</th>\n",
       "      <th>authorFollower</th>\n",
       "      <th>authorFriend</th>\n",
       "      <th>authorLocation</th>\n",
       "      <th>tweetURL</th>\n",
       "    </tr>\n",
       "  </thead>\n",
       "  <tbody>\n",
       "    <tr>\n",
       "      <th>1</th>\n",
       "      <td>1.102720e+18</td>\n",
       "      <td>BlueelvisEric</td>\n",
       "      <td>Mon Mar 04 23:59:40 +0000 2019</td>\n",
       "      <td>NaN</td>\n",
       "      <td>en</td>\n",
       "      <td>NaN</td>\n",
       "      <td>NaN</td>\n",
       "      <td>3.109106e+09</td>\n",
       "      <td>NaN</td>\n",
       "      <td>&lt;a href=\"http://twitter.com/download/android\" rel=\"nofollow\"&gt;Twitter for Android&lt;/a&gt;</td>\n",
       "      <td>http://pbs.twimg.com/profile_images/1062099415421411333/EZCmOCeu_normal.jpg</td>\n",
       "      <td>940</td>\n",
       "      <td>225.0</td>\n",
       "      <td>top your momma</td>\n",
       "      <td>http://twitter.com/BlueelvisEric/statuses/1102720294035353606</td>\n",
       "    </tr>\n",
       "  </tbody>\n",
       "</table>\n",
       "</div>"
      ],
      "text/plain": [
       "        tweetID   authorScreen                   tweetTimeDate tweetGeo  \\\n",
       "1  1.102720e+18  BlueelvisEric  Mon Mar 04 23:59:40 +0000 2019  NaN       \n",
       "\n",
       "  authorLang  authorID_original authorScreen_original      authorID  \\\n",
       "1  en        NaN                 NaN                   3.109106e+09   \n",
       "\n",
       "   tweetID_original  \\\n",
       "1 NaN                 \n",
       "\n",
       "                                                                            tweetMethod  \\\n",
       "1  <a href=\"http://twitter.com/download/android\" rel=\"nofollow\">Twitter for Android</a>   \n",
       "\n",
       "                                                                 authorPicture  \\\n",
       "1  http://pbs.twimg.com/profile_images/1062099415421411333/EZCmOCeu_normal.jpg   \n",
       "\n",
       "   authorFollower  authorFriend  authorLocation  \\\n",
       "1  940             225.0         top your momma   \n",
       "\n",
       "                                                        tweetURL  \n",
       "1  http://twitter.com/BlueelvisEric/statuses/1102720294035353606  "
      ]
     },
     "execution_count": 114,
     "metadata": {},
     "output_type": "execute_result"
    }
   ],
   "source": [
    "#Rename remaining columns\n",
    "df = df.rename(columns={\"id_str\":\"tweetID\",\n",
    "                        \"from_user\":\"authorScreen\",\n",
    "                        \"created_at\":\"tweetTimeDate\",\n",
    "                        \"geo_coordinates\":\"tweetGeo\",\n",
    "                        \"user_lang\":\"authorLang\",\n",
    "                        \"in_reply_to_user_id_str\":\"authorID_original\",\n",
    "                        \"in_reply_to_screen_name\":\"authorScreen_original\",\n",
    "                        \"from_user_id_str\":\"authorID\",\n",
    "                        \"in_reply_to_status_id_str\":\"tweetID_original\",\n",
    "                        \"source\":\"tweetMethod\", \n",
    "                        \"profile_image_url\":\"authorPicture\",\n",
    "                        \"user_followers_count\":\"authorFollower\",\n",
    "                        \"user_friends_count\":\"authorFriend\",\n",
    "                        \"user_location\":\"authorLocation\",\"status_url\":\"tweetURL\"})\n",
    "\n",
    "df[1:2]"
   ]
  },
  {
   "cell_type": "code",
   "execution_count": 115,
   "metadata": {},
   "outputs": [
    {
     "data": {
      "text/html": [
       "<div>\n",
       "<style scoped>\n",
       "    .dataframe tbody tr th:only-of-type {\n",
       "        vertical-align: middle;\n",
       "    }\n",
       "\n",
       "    .dataframe tbody tr th {\n",
       "        vertical-align: top;\n",
       "    }\n",
       "\n",
       "    .dataframe thead th {\n",
       "        text-align: right;\n",
       "    }\n",
       "</style>\n",
       "<table border=\"1\" class=\"dataframe\">\n",
       "  <thead>\n",
       "    <tr style=\"text-align: right;\">\n",
       "      <th></th>\n",
       "      <th>authorFollower</th>\n",
       "      <th>authorFriend</th>\n",
       "      <th>authorID</th>\n",
       "      <th>authorID_original</th>\n",
       "      <th>authorLang</th>\n",
       "      <th>authorLocation</th>\n",
       "      <th>authorPicture</th>\n",
       "      <th>authorScreen</th>\n",
       "      <th>authorScreen_original</th>\n",
       "      <th>tweetGeo</th>\n",
       "      <th>tweetID</th>\n",
       "      <th>tweetID_original</th>\n",
       "      <th>tweetMethod</th>\n",
       "      <th>tweetTimeDate</th>\n",
       "      <th>tweetURL</th>\n",
       "    </tr>\n",
       "  </thead>\n",
       "  <tbody>\n",
       "    <tr>\n",
       "      <th>1</th>\n",
       "      <td>940</td>\n",
       "      <td>225.0</td>\n",
       "      <td>3.109106e+09</td>\n",
       "      <td>NaN</td>\n",
       "      <td>en</td>\n",
       "      <td>top your momma</td>\n",
       "      <td>http://pbs.twimg.com/profile_images/1062099415421411333/EZCmOCeu_normal.jpg</td>\n",
       "      <td>BlueelvisEric</td>\n",
       "      <td>NaN</td>\n",
       "      <td>NaN</td>\n",
       "      <td>1.102720e+18</td>\n",
       "      <td>NaN</td>\n",
       "      <td>&lt;a href=\"http://twitter.com/download/android\" rel=\"nofollow\"&gt;Twitter for Android&lt;/a&gt;</td>\n",
       "      <td>Mon Mar 04 23:59:40 +0000 2019</td>\n",
       "      <td>http://twitter.com/BlueelvisEric/statuses/1102720294035353606</td>\n",
       "    </tr>\n",
       "  </tbody>\n",
       "</table>\n",
       "</div>"
      ],
      "text/plain": [
       "   authorFollower  authorFriend      authorID  authorID_original authorLang  \\\n",
       "1  940             225.0         3.109106e+09 NaN                 en          \n",
       "\n",
       "   authorLocation  \\\n",
       "1  top your momma   \n",
       "\n",
       "                                                                 authorPicture  \\\n",
       "1  http://pbs.twimg.com/profile_images/1062099415421411333/EZCmOCeu_normal.jpg   \n",
       "\n",
       "    authorScreen authorScreen_original tweetGeo       tweetID  \\\n",
       "1  BlueelvisEric  NaN                   NaN      1.102720e+18   \n",
       "\n",
       "   tweetID_original  \\\n",
       "1 NaN                 \n",
       "\n",
       "                                                                            tweetMethod  \\\n",
       "1  <a href=\"http://twitter.com/download/android\" rel=\"nofollow\">Twitter for Android</a>   \n",
       "\n",
       "                    tweetTimeDate  \\\n",
       "1  Mon Mar 04 23:59:40 +0000 2019   \n",
       "\n",
       "                                                        tweetURL  \n",
       "1  http://twitter.com/BlueelvisEric/statuses/1102720294035353606  "
      ]
     },
     "execution_count": 115,
     "metadata": {},
     "output_type": "execute_result"
    }
   ],
   "source": [
    "#Group author and tweet variables together in the dataset.\n",
    "df = df.sort_index(axis=1)\n",
    "df[1:2]"
   ]
  },
  {
   "cell_type": "markdown",
   "metadata": {},
   "source": [
    "<h3>Data Overview</h3>"
   ]
  },
  {
   "cell_type": "code",
   "execution_count": 116,
   "metadata": {},
   "outputs": [
    {
     "name": "stdout",
     "output_type": "stream",
     "text": [
      "<class 'pandas.core.frame.DataFrame'>\n",
      "RangeIndex: 123524 entries, 0 to 123523\n",
      "Data columns (total 15 columns):\n",
      "authorFollower           123524 non-null int64\n",
      "authorFriend             123286 non-null float64\n",
      "authorID                 123524 non-null float64\n",
      "authorID_original        9666 non-null float64\n",
      "authorLang               123524 non-null object\n",
      "authorLocation           85206 non-null object\n",
      "authorPicture            123524 non-null object\n",
      "authorScreen             123524 non-null object\n",
      "authorScreen_original    9666 non-null object\n",
      "tweetGeo                 45 non-null object\n",
      "tweetID                  123524 non-null float64\n",
      "tweetID_original         9158 non-null float64\n",
      "tweetMethod              123524 non-null object\n",
      "tweetTimeDate            123524 non-null object\n",
      "tweetURL                 123524 non-null object\n",
      "dtypes: float64(5), int64(1), object(9)\n",
      "memory usage: 14.1+ MB\n"
     ]
    }
   ],
   "source": [
    "df.info()"
   ]
  },
  {
   "cell_type": "markdown",
   "metadata": {},
   "source": [
    "<p>The data contain 123,524 observations for 15 variables: nine that describe the author of the tweet and six that describe the tweet. </p>\n",
    "<p>The author variables are:\n",
    "<ul>\n",
    "    <li>author ID and screen name</li>\n",
    "    <li>author location (from profile)</li>\n",
    "    <li>author follower count (users following the author)</li>\n",
    "    <li>author friend count (users the author follows)</li>\n",
    "    <li>author profile picture (URL)</li>\n",
    "    <li>screen name and ID of the original author (if tweet is a reply)</li></ul>\n",
    "The tweet variables are:\n",
    "<ul>\n",
    "    <li>tweet ID</li>\n",
    "    <li>tweet time and date</li>\n",
    "    <li>tweet URL</li>\n",
    "    <li>tweet method (e.g., HTML indicating whether author tweeted via web app, phone, Facebook)</li>\n",
    "    <li>tweet geographical coordinates (if available)</li>\n",
    "    <li>ID of the original tweet (if tweet is a reply)</li></ul></p>\n",
    "<p>There is no missing data for authorFollower, authorID, authorLang, authorPicture, authorScreen, tweetID, tweetMethod, tweetTimeDate and tweetURL. There is some missing data for authorFriend, authorID_original, authorScreen_original and tweetID_original. There is a lot of missing data for tweetGeo.</p>\n",
    "<p>Six of the variables contain numerical data (authorFollower, authorFriend, authorID, authorID_original, tweetID and tweetID_original); however, the last four of these are numerical representations of things (either Twitter accounts or tweets). As such, the data should be treated as object rather than numerical data. The remaining nine variables contain object (string) data. Five out of the six numerical variables are of the type float64, which is a format allowing a fractional number. One is of the type int64, which includes only whole numbers. For all of the variables, the int64 data type makes more sense because the things being represented (Twitter accounts and tweets) do not come in parts.</p>\n",
    "<p>Of the object-type variables, some might be more appopriately represented as categorical data. This would involve re-coding the data into a limited number of fixed levels (or factors). Some variables to consider for this treatment are authorLang (e.g., levels: English, French, Spanish, German, other), authorLocation (e.g., places grouped by continent), authorPicture (e.g., binomial: field or not) and tweetMethod (e.g., levels: app, website, other). A close examination of each variable is necessary to determine the suitable levels.</p>\n",
    "<p>There is some duplicate information contained in the dataset. One variable -- \"time\" -- was dropped in line 31 for this reason. Similarly, authorID and authorID_original are redundant with authorScreen and authorScreen_original. The \"ID\" variables provide the account numbers associated with the tweets, whereas the \"screen\" variables provide the screennames.</p>\n",
    "<p>Given the above information, and to facilitate preparation of the descriptive statistics, I will further process the dataset as follows:\n",
    "    <ol>\n",
    "        <li>Drop authorID and authorID_original.</li>\n",
    "        <li>Drop tweetGeo.</li>\n",
    "        <li>Convert authorFriend from float64 to int64.</li>\n",
    "        <li>Convert tweetID and tweetID_original from numerical to object.</li>\n",
    "        <li>Convert authorLang, authorLocation, authorPicture and tweetMethod to categorical data type and propose categories for recoding.</li>\n",
    "        <li>Parse tweetTimeDate into a pandas Timestamp object.</li></ol></p>\n",
    "        \n",
    "<p>Note: While I do not expect the tweetURL variable to factor directly into our analysis, I propose keeping it in the dataset for reference purposes. </p>"
   ]
  },
  {
   "cell_type": "markdown",
   "metadata": {},
   "source": [
    "<h3>Additional data processing prior to analysis</h3>"
   ]
  },
  {
   "cell_type": "markdown",
   "metadata": {},
   "source": [
    "<h4>#1 and #2: Drop authorID, authorID_original and tweetGeo</h4>"
   ]
  },
  {
   "cell_type": "code",
   "execution_count": 117,
   "metadata": {},
   "outputs": [
    {
     "data": {
      "text/html": [
       "<div>\n",
       "<style scoped>\n",
       "    .dataframe tbody tr th:only-of-type {\n",
       "        vertical-align: middle;\n",
       "    }\n",
       "\n",
       "    .dataframe tbody tr th {\n",
       "        vertical-align: top;\n",
       "    }\n",
       "\n",
       "    .dataframe thead th {\n",
       "        text-align: right;\n",
       "    }\n",
       "</style>\n",
       "<table border=\"1\" class=\"dataframe\">\n",
       "  <thead>\n",
       "    <tr style=\"text-align: right;\">\n",
       "      <th></th>\n",
       "      <th>authorFollower</th>\n",
       "      <th>authorFriend</th>\n",
       "      <th>authorLang</th>\n",
       "      <th>authorLocation</th>\n",
       "      <th>authorPicture</th>\n",
       "      <th>authorScreen</th>\n",
       "      <th>authorScreen_original</th>\n",
       "      <th>tweetID</th>\n",
       "      <th>tweetID_original</th>\n",
       "      <th>tweetMethod</th>\n",
       "      <th>tweetTimeDate</th>\n",
       "      <th>tweetURL</th>\n",
       "    </tr>\n",
       "  </thead>\n",
       "  <tbody>\n",
       "    <tr>\n",
       "      <th>1</th>\n",
       "      <td>940</td>\n",
       "      <td>225.0</td>\n",
       "      <td>en</td>\n",
       "      <td>top your momma</td>\n",
       "      <td>http://pbs.twimg.com/profile_images/1062099415421411333/EZCmOCeu_normal.jpg</td>\n",
       "      <td>BlueelvisEric</td>\n",
       "      <td>NaN</td>\n",
       "      <td>1.102720e+18</td>\n",
       "      <td>NaN</td>\n",
       "      <td>&lt;a href=\"http://twitter.com/download/android\" rel=\"nofollow\"&gt;Twitter for Android&lt;/a&gt;</td>\n",
       "      <td>Mon Mar 04 23:59:40 +0000 2019</td>\n",
       "      <td>http://twitter.com/BlueelvisEric/statuses/1102720294035353606</td>\n",
       "    </tr>\n",
       "  </tbody>\n",
       "</table>\n",
       "</div>"
      ],
      "text/plain": [
       "   authorFollower  authorFriend authorLang  authorLocation  \\\n",
       "1  940             225.0         en         top your momma   \n",
       "\n",
       "                                                                 authorPicture  \\\n",
       "1  http://pbs.twimg.com/profile_images/1062099415421411333/EZCmOCeu_normal.jpg   \n",
       "\n",
       "    authorScreen authorScreen_original       tweetID  tweetID_original  \\\n",
       "1  BlueelvisEric  NaN                   1.102720e+18 NaN                 \n",
       "\n",
       "                                                                            tweetMethod  \\\n",
       "1  <a href=\"http://twitter.com/download/android\" rel=\"nofollow\">Twitter for Android</a>   \n",
       "\n",
       "                    tweetTimeDate  \\\n",
       "1  Mon Mar 04 23:59:40 +0000 2019   \n",
       "\n",
       "                                                        tweetURL  \n",
       "1  http://twitter.com/BlueelvisEric/statuses/1102720294035353606  "
      ]
     },
     "execution_count": 117,
     "metadata": {},
     "output_type": "execute_result"
    }
   ],
   "source": [
    "df = df.drop(['authorID','authorID_original','tweetGeo'], axis=1)\n",
    "df[1:2]"
   ]
  },
  {
   "cell_type": "markdown",
   "metadata": {},
   "source": [
    "<h4>#3: Convert authorFriend from float64 to int64.</h4>"
   ]
  },
  {
   "cell_type": "code",
   "execution_count": 118,
   "metadata": {},
   "outputs": [
    {
     "data": {
      "text/plain": [
       "dtype('int64')"
      ]
     },
     "execution_count": 118,
     "metadata": {},
     "output_type": "execute_result"
    }
   ],
   "source": [
    "df['authorFriend'] = df['authorFriend'].fillna(0)#Replace NaN with zeros (to represent zero friends)\n",
    "df['authorFriend'] = df['authorFriend'].astype(\"int\")#Convert to int64\n",
    "df.dtypes['authorFriend']#Check"
   ]
  },
  {
   "cell_type": "markdown",
   "metadata": {},
   "source": [
    "<h4>#4: Convert tweetID and tweetID_original from numerical to object.</h4>"
   ]
  },
  {
   "cell_type": "code",
   "execution_count": 119,
   "metadata": {},
   "outputs": [
    {
     "data": {
      "text/plain": [
       "tweetID             object\n",
       "tweetID_original    object\n",
       "dtype: object"
      ]
     },
     "execution_count": 119,
     "metadata": {},
     "output_type": "execute_result"
    }
   ],
   "source": [
    "cols = [\"tweetID\",\"tweetID_original\"]\n",
    "df[cols] = df[cols].astype(\"str\")\n",
    "df.dtypes[cols]"
   ]
  },
  {
   "cell_type": "markdown",
   "metadata": {},
   "source": [
    "<h4>#5a: Convert authorLang, authorLocation, authorPicture and tweetMethod to categorical data type."
   ]
  },
  {
   "cell_type": "code",
   "execution_count": 120,
   "metadata": {},
   "outputs": [
    {
     "name": "stdout",
     "output_type": "stream",
     "text": [
      "<class 'pandas.core.frame.DataFrame'>\n",
      "RangeIndex: 123524 entries, 0 to 123523\n",
      "Data columns (total 12 columns):\n",
      "authorFollower           123524 non-null int64\n",
      "authorFriend             123524 non-null int64\n",
      "authorLang               123524 non-null category\n",
      "authorLocation           85206 non-null category\n",
      "authorPicture            123524 non-null category\n",
      "authorScreen             123524 non-null object\n",
      "authorScreen_original    9666 non-null object\n",
      "tweetID                  123524 non-null object\n",
      "tweetID_original         123524 non-null object\n",
      "tweetMethod              123524 non-null category\n",
      "tweetTimeDate            123524 non-null object\n",
      "tweetURL                 123524 non-null object\n",
      "dtypes: category(4), int64(2), object(6)\n",
      "memory usage: 13.2+ MB\n"
     ]
    }
   ],
   "source": [
    "df[\"authorLang\"] = df[\"authorLang\"].astype('category')\n",
    "df[\"authorLocation\"] = df[\"authorLocation\"].astype('category')\n",
    "df[\"authorPicture\"] = df[\"authorPicture\"].astype('category')\n",
    "df[\"tweetMethod\"] = df[\"tweetMethod\"].astype('category')\n",
    "df.info()"
   ]
  },
  {
   "cell_type": "markdown",
   "metadata": {},
   "source": [
    "<h4>#5b: Propose categories for recoding.</h4>"
   ]
  },
  {
   "cell_type": "code",
   "execution_count": 121,
   "metadata": {},
   "outputs": [
    {
     "data": {
      "text/plain": [
       "en       106942\n",
       "fr       4523  \n",
       "de       3016  \n",
       "es       2488  \n",
       "en-gb    2107  \n",
       "nl       735   \n",
       "it       685   \n",
       "ja       656   \n",
       "sv       470   \n",
       "pt       334   \n",
       "en-GB    292   \n",
       "pl       221   \n",
       "ar       134   \n",
       "ca       117   \n",
       "da       112   \n",
       "Name: authorLang, dtype: int64"
      ]
     },
     "execution_count": 121,
     "metadata": {},
     "output_type": "execute_result"
    }
   ],
   "source": [
    "df['authorLang'].value_counts()[0:15]"
   ]
  },
  {
   "cell_type": "code",
   "execution_count": 122,
   "metadata": {},
   "outputs": [
    {
     "data": {
      "text/plain": [
       "<matplotlib.axes._subplots.AxesSubplot at 0x13166ed68>"
      ]
     },
     "execution_count": 122,
     "metadata": {},
     "output_type": "execute_result"
    },
    {
     "data": {
      "image/png": "[encoded data removed]",
      "text/plain": [
       "<Figure size 432x288 with 1 Axes>"
      ]
     },
     "metadata": {
      "needs_background": "light"
     },
     "output_type": "display_data"
    }
   ],
   "source": [
    "%matplotlib inline\n",
    "df['authorLang'].value_counts()[0:15].plot()"
   ]
  },
  {
   "cell_type": "markdown",
   "metadata": {},
   "source": [
    "<p>For <b>authorLang</b>, I would propose grouping the values into just two categories:\n",
    "<ul>\n",
    "    <li>Group 1: English</li>\n",
    "    <li>Group 2: Non-English</li>\n",
    "</ul>\n",
    "There will likely be English language tweets for which the authorLang value is Non-English. This might indicate that the author is a non-native English speaker and possibly a migrant.</p>"
   ]
  },
  {
   "cell_type": "code",
   "execution_count": 123,
   "metadata": {
    "scrolled": false
   },
   "outputs": [
    {
     "data": {
      "text/plain": [
       "United States              3475\n",
       "USA                        1187\n",
       "California, USA            1027\n",
       "Texas, USA                 932 \n",
       "Florida, USA               857 \n",
       "Washington, DC             680 \n",
       "London                     652 \n",
       "London, England            648 \n",
       "Canada                     561 \n",
       "United Kingdom             530 \n",
       "England, United Kingdom    516 \n",
       "Los Angeles, CA            476 \n",
       "New York, NY               475 \n",
       "Australia                  391 \n",
       "Texas                      382 \n",
       "UK                         375 \n",
       "New York, USA              343 \n",
       "France                     339 \n",
       "Chicago, IL                337 \n",
       "Earth                      298 \n",
       "Name: authorLocation, dtype: int64"
      ]
     },
     "execution_count": 123,
     "metadata": {},
     "output_type": "execute_result"
    }
   ],
   "source": [
    "df['authorLocation'].value_counts()[0:20]"
   ]
  },
  {
   "cell_type": "markdown",
   "metadata": {},
   "source": [
    "<p>For <b>authorLocation</b>, the ideal way to group values would be by world region:\n",
    "<ul><li>Group 1: North America</li>\n",
    "    <li>Group 2: Europe</li>\n",
    "    <li>Group 3: Oceania</li>\n",
    "    <li>Group 4: Asia</li>\n",
    "    <li>Group 5: Africa</li>\n",
    "    <li>Group 6: Latin America</li>\n",
    "    <li>Group 7: Caribbean</li></ul>\n",
    "However, it appears that the vast majority of locations are in the United States, followed by the UK. Therefore, it might make more sense to use fewer categories. For example:\n",
    "<ul><li>Group 1: USA</li>\n",
    "    <li>Group 2: United Kingdom</li>\n",
    "    <li>Group 3: Other (English official language)</li>\n",
    "    <li>Group 4: Other (English not official language)</li></ul>\n",
    "Or alternatively, we could focus on US regions, since that's where most of the data is coming from:\n",
    "<ul><li>Group 1: USA-Northeast</li>\n",
    "    <li>Group 2: USA-Southeast</li>\n",
    "    <li>Group 3: USA-Midwest</li>\n",
    "    <li>Group 4: USA-Southwest</li>\n",
    "    <li>Group 5: USA-Coastal West</li>\n",
    "    <li>Group 6: USA-Mountain West</li>\n",
    "    <li>Group 3: Non USA</li></ul>\n",
    "Ultimately, this might be a variable that we want to try grouping in different ways during the analysis. It would be useful to have an automated way of gdoing this. Maybe the geoparsepy can help?</p>"
   ]
  },
  {
   "cell_type": "code",
   "execution_count": 124,
   "metadata": {},
   "outputs": [
    {
     "ename": "SyntaxError",
     "evalue": "unexpected EOF while parsing (<ipython-input-124-1b78459bc675>, line 1)",
     "output_type": "error",
     "traceback": [
      "\u001b[0;36m  File \u001b[0;32m\"<ipython-input-124-1b78459bc675>\"\u001b[0;36m, line \u001b[0;32m1\u001b[0m\n\u001b[0;31m    df['authorPicture'].value_counts()[0:15\u001b[0m\n\u001b[0m                                           ^\u001b[0m\n\u001b[0;31mSyntaxError\u001b[0m\u001b[0;31m:\u001b[0m unexpected EOF while parsing\n"
     ]
    }
   ],
   "source": [
    "df['authorPicture'].value_counts()[0:15"
   ]
  },
  {
   "cell_type": "code",
   "execution_count": 125,
   "metadata": {},
   "outputs": [
    {
     "data": {
      "text/plain": [
       "[]"
      ]
     },
     "execution_count": 125,
     "metadata": {},
     "output_type": "execute_result"
    },
    {
     "data": {
      "image/png": "[encoded data removed]",
      "text/plain": [
       "<Figure size 432x288 with 1 Axes>"
      ]
     },
     "metadata": {
      "needs_background": "light"
     },
     "output_type": "display_data"
    }
   ],
   "source": [
    "%matplotlib inline\n",
    "df['authorPicture'].value_counts()[0:15].plot().axes.get_xaxis().set_ticks([])"
   ]
  },
  {
   "cell_type": "markdown",
   "metadata": {},
   "source": [
    "<p>For <b>authorPicture</b>, I would propose grouping the values into just two categories:\n",
    "<ul>\n",
    "    <li>Group 1: Personalized</li>\n",
    "    <li>Group 2: Default</li>\n",
    "</ul>\n",
    "Personalized means that the author has changed the profile picture from the default image supplied by Twitter to something of his or her own choosing.</p>"
   ]
  },
  {
   "cell_type": "code",
   "execution_count": 126,
   "metadata": {},
   "outputs": [
    {
     "data": {
      "text/plain": [
       "<a href=\"http://twitter.com/download/iphone\" rel=\"nofollow\">Twitter for iPhone</a>      40129\n",
       "<a href=\"http://twitter.com/download/android\" rel=\"nofollow\">Twitter for Android</a>    34395\n",
       "<a href=\"http://twitter.com\" rel=\"nofollow\">Twitter Web Client</a>                      24144\n",
       "<a href=\"http://twitter.com/#!/download/ipad\" rel=\"nofollow\">Twitter for iPad</a>       8421 \n",
       "<a href=\"https://mobile.twitter.com\" rel=\"nofollow\">Twitter Web App</a>                 8343 \n",
       "<a href=\"http://www.facebook.com/twitter\" rel=\"nofollow\">Facebook</a>                   1300 \n",
       "<a href=\"https://about.twitter.com/products/tweetdeck\" rel=\"nofollow\">TweetDeck</a>     1079 \n",
       "<a href=\"https://ifttt.com\" rel=\"nofollow\">IFTTT</a>                                    500  \n",
       "<a href=\"https://dlvrit.com/\" rel=\"nofollow\">dlvr.it</a>                                474  \n",
       "<a href=\"https://www.hootsuite.com\" rel=\"nofollow\">Hootsuite Inc.</a>                   457  \n",
       "<a href=\"https://buffer.com\" rel=\"nofollow\">Buffer</a>                                  360  \n",
       "<a href=\"http://publicize.wp.com/\" rel=\"nofollow\">WordPress.com</a>                     266  \n",
       "<a href=\"http://tapbots.com/tweetbot\" rel=\"nofollow\">Tweetbot for iΟS</a>               263  \n",
       "<a href=\"http://gaggleamp.com/twit/\" rel=\"nofollow\">GaggleAMP</a>                       168  \n",
       "<a href=\"http://twittbot.net/\" rel=\"nofollow\">twittbot.net</a>                          165  \n",
       "Name: tweetMethod, dtype: int64"
      ]
     },
     "execution_count": 126,
     "metadata": {},
     "output_type": "execute_result"
    }
   ],
   "source": [
    "df['tweetMethod'].value_counts()[0:15]"
   ]
  },
  {
   "cell_type": "code",
   "execution_count": 127,
   "metadata": {},
   "outputs": [
    {
     "data": {
      "text/plain": [
       "[]"
      ]
     },
     "execution_count": 127,
     "metadata": {},
     "output_type": "execute_result"
    },
    {
     "data": {
      "image/png": "[encoded data removed]",
      "text/plain": [
       "<Figure size 432x288 with 1 Axes>"
      ]
     },
     "metadata": {
      "needs_background": "light"
     },
     "output_type": "display_data"
    }
   ],
   "source": [
    "%matplotlib inline\n",
    "df['tweetMethod'].value_counts()[1:20].plot().axes.get_xaxis().set_ticks([])"
   ]
  },
  {
   "cell_type": "markdown",
   "metadata": {},
   "source": [
    "<p>For <b>tweetMethod</b>, the groupings (and new labels) I propose are: \n",
    "<ul>\n",
    "    <li>Group 1: Twitter for iPhone & Twitter for Android (smartphone apps)</li>\n",
    "    <li>Group 2: Twitter Web Client (standard Web interface)</li>\n",
    "    <li>Group 3: Twitter Web App & Twitter for iPad (mobile-friendly Web interface).</li>\n",
    "    <li>Group 4: Third party app, website or client.</li></ul>\n",
    " Given the large number of Twitter for iPhone and Twitter for Android values, we could give each their own categories, if there is a reason to believe that there might be some difference between these tweet methods (or the people who use them).</p>"
   ]
  },
  {
   "cell_type": "markdown",
   "metadata": {},
   "source": [
    "<h4>#6: Parse tweetTimeDate into a pandas Timestamp object.</h4>"
   ]
  },
  {
   "cell_type": "code",
   "execution_count": 128,
   "metadata": {},
   "outputs": [
    {
     "data": {
      "text/plain": [
       "Tue Feb 26 22:55:03 +0000 2019    29\n",
       "Name: tweetTimeDate, dtype: int64"
      ]
     },
     "execution_count": 128,
     "metadata": {},
     "output_type": "execute_result"
    }
   ],
   "source": [
    "df['tweetTimeDate'].value_counts()[0:1]"
   ]
  },
  {
   "cell_type": "code",
   "execution_count": 129,
   "metadata": {},
   "outputs": [
    {
     "data": {
      "text/plain": [
       "2019-02-26 22:55:03+00:00    29\n",
       "Name: tweetTimeDate, dtype: int64"
      ]
     },
     "execution_count": 129,
     "metadata": {},
     "output_type": "execute_result"
    }
   ],
   "source": [
    "df['tweetTimeDate'] = df['tweetTimeDate'].apply(dateutil.parser.parse, dayfirst=True)\n",
    "df['tweetTimeDate'].value_counts()[0:1]"
   ]
  },
  {
   "cell_type": "code",
   "execution_count": 131,
   "metadata": {},
   "outputs": [
    {
     "data": {
      "text/plain": [
       "<matplotlib.axes._subplots.AxesSubplot at 0x13291c748>"
      ]
     },
     "execution_count": 131,
     "metadata": {},
     "output_type": "execute_result"
    },
    {
     "data": {
      "image/png": "[encoded data removed]",
      "text/plain": [
       "<Figure size 432x288 with 1 Axes>"
      ]
     },
     "metadata": {
      "needs_background": "light"
     },
     "output_type": "display_data"
    }
   ],
   "source": [
    "df['tweetTimeDate'].value_counts().plot()"
   ]
  },
  {
   "cell_type": "markdown",
   "metadata": {},
   "source": [
    "<p>The spike on Feb 26, 2019, is related to a top news story for the day: the U.S. House of Representatives voted to block President Trump's declaration of a national emergency to fund construction of a wall along the US-Mexico border.</p>"
   ]
  },
  {
   "cell_type": "markdown",
   "metadata": {},
   "source": [
    "<h3>Notes and code for later use</h3>"
   ]
  },
  {
   "cell_type": "code",
   "execution_count": 6,
   "metadata": {},
   "outputs": [
    {
     "name": "stdout",
     "output_type": "stream",
     "text": [
      "88304\n"
     ]
    }
   ],
   "source": [
    "users = df['from_user'].tolist()\n",
    "users = set(users)\n",
    "print(len(users))"
   ]
  },
  {
   "cell_type": "code",
   "execution_count": 17,
   "metadata": {},
   "outputs": [],
   "source": [
    "from collections import Counter"
   ]
  },
  {
   "cell_type": "code",
   "execution_count": 19,
   "metadata": {},
   "outputs": [
    {
     "data": {
      "text/plain": [
       "Counter({'en': 106942,\n",
       "         'ja': 656,\n",
       "         'fi': 83,\n",
       "         'de': 3016,\n",
       "         'en-gb': 2107,\n",
       "         'fr': 4523,\n",
       "         'es': 2488,\n",
       "         'nl': 735,\n",
       "         'en-GB': 292,\n",
       "         'id': 46,\n",
       "         'pl': 221,\n",
       "         'it': 685,\n",
       "         'ar': 134,\n",
       "         'ko': 57,\n",
       "         'zh-TW': 2,\n",
       "         'ca': 117,\n",
       "         'tr': 82,\n",
       "         'el': 71,\n",
       "         'pt': 334,\n",
       "         'hu': 21,\n",
       "         'sv': 470,\n",
       "         'uk': 36,\n",
       "         'ru': 77,\n",
       "         'no': 20,\n",
       "         'fa': 7,\n",
       "         'da': 112,\n",
       "         'zh-CN': 14,\n",
       "         'xx-lc': 7,\n",
       "         'ro': 9,\n",
       "         'pt-PT': 1,\n",
       "         'eu': 2,\n",
       "         'bg': 7,\n",
       "         'cs': 34,\n",
       "         'hr': 8,\n",
       "         'sr': 24,\n",
       "         'he': 15,\n",
       "         'vi': 4,\n",
       "         'zh-cn': 18,\n",
       "         'gl': 4,\n",
       "         'zh-tw': 8,\n",
       "         'en-AU': 5,\n",
       "         'lv': 10,\n",
       "         'th': 6,\n",
       "         'nb': 2,\n",
       "         'hi': 2,\n",
       "         'en-US': 1,\n",
       "         'sk': 2,\n",
       "         'msa': 1,\n",
       "         'fil': 1,\n",
       "         'zh-Hans': 1,\n",
       "         'ga': 4})"
      ]
     },
     "execution_count": 19,
     "metadata": {},
     "output_type": "execute_result"
    }
   ],
   "source": [
    "langs = df['user_lang'].tolist()\n",
    "Counter(langs) #counter object"
   ]
  },
  {
   "cell_type": "code",
   "execution_count": 22,
   "metadata": {},
   "outputs": [
    {
     "data": {
      "text/html": [
       "<div>\n",
       "<style scoped>\n",
       "    .dataframe tbody tr th:only-of-type {\n",
       "        vertical-align: middle;\n",
       "    }\n",
       "\n",
       "    .dataframe tbody tr th {\n",
       "        vertical-align: top;\n",
       "    }\n",
       "\n",
       "    .dataframe thead th {\n",
       "        text-align: right;\n",
       "    }\n",
       "</style>\n",
       "<table border=\"1\" class=\"dataframe\">\n",
       "  <thead>\n",
       "    <tr style=\"text-align: right;\">\n",
       "      <th></th>\n",
       "      <th>id_str</th>\n",
       "      <th>from_user</th>\n",
       "    </tr>\n",
       "  </thead>\n",
       "  <tbody>\n",
       "    <tr>\n",
       "      <th>0</th>\n",
       "      <td>1.102720e+18</td>\n",
       "      <td>darleneclarke5</td>\n",
       "    </tr>\n",
       "    <tr>\n",
       "      <th>1</th>\n",
       "      <td>1.102720e+18</td>\n",
       "      <td>BlueelvisEric</td>\n",
       "    </tr>\n",
       "    <tr>\n",
       "      <th>2</th>\n",
       "      <td>1.102720e+18</td>\n",
       "      <td>Potus16Abe</td>\n",
       "    </tr>\n",
       "    <tr>\n",
       "      <th>3</th>\n",
       "      <td>1.102720e+18</td>\n",
       "      <td>soozbo</td>\n",
       "    </tr>\n",
       "    <tr>\n",
       "      <th>4</th>\n",
       "      <td>1.102720e+18</td>\n",
       "      <td>jp_dutch</td>\n",
       "    </tr>\n",
       "  </tbody>\n",
       "</table>\n",
       "</div>"
      ],
      "text/plain": [
       "         id_str       from_user\n",
       "0  1.102720e+18  darleneclarke5\n",
       "1  1.102720e+18  BlueelvisEric \n",
       "2  1.102720e+18  Potus16Abe    \n",
       "3  1.102720e+18  soozbo        \n",
       "4  1.102720e+18  jp_dutch      "
      ]
     },
     "execution_count": 22,
     "metadata": {},
     "output_type": "execute_result"
    }
   ],
   "source": [
    "df2 = df[['id_str', 'from_user']]\n",
    "df2.head()"
   ]
  },
  {
   "cell_type": "code",
   "execution_count": 30,
   "metadata": {},
   "outputs": [
    {
     "name": "stdout",
     "output_type": "stream",
     "text": [
      "[(1.10272e+18, 'BlueelvisEric'), (1.10272e+18, 'Potus16Abe'), (1.10272e+18, 'soozbo'), (1.10272e+18, 'jp_dutch'), (1.10272e+18, 'RJ_Kendall'), (1.10272e+18, 'gabrieleverett'), (1.10272e+18, 'lT1g0n8T2'), (1.10272e+18, 'suse_______'), (1.10272e+18, 'ffd365')]\n"
     ]
    }
   ],
   "source": [
    "L1 = []\n",
    "for x in df2.values:\n",
    "    tup = tuple(x)\n",
    "    L1.append(tup)\n",
    "print(L1[1:10])"
   ]
  },
  {
   "cell_type": "code",
   "execution_count": 32,
   "metadata": {},
   "outputs": [
    {
     "name": "stdout",
     "output_type": "stream",
     "text": [
      "[(1.10272e+18, 'BlueelvisEric'), (1.10272e+18, 'Potus16Abe'), (1.10272e+18, 'soozbo'), (1.10272e+18, 'jp_dutch'), (1.10272e+18, 'RJ_Kendall'), (1.10272e+18, 'gabrieleverett'), (1.10272e+18, 'lT1g0n8T2'), (1.10272e+18, 'suse_______'), (1.10272e+18, 'ffd365')]\n"
     ]
    }
   ],
   "source": [
    "L2 = [tuple(x) for x in df2.values]\n",
    "print(L2[1:10])"
   ]
  },
  {
   "cell_type": "code",
   "execution_count": 34,
   "metadata": {},
   "outputs": [
    {
     "data": {
      "text/plain": [
       "True"
      ]
     },
     "execution_count": 34,
     "metadata": {},
     "output_type": "execute_result"
    }
   ],
   "source": [
    "L1 == L2"
   ]
  },
  {
   "cell_type": "markdown",
   "metadata": {},
   "source": [
    "<h3>References</h3>"
   ]
  },
  {
   "cell_type": "markdown",
   "metadata": {},
   "source": [
    "<p>Bright, P. (2018, June 9) Progressive Web Apps moving mainstream as Twitter makes its mobile site the main one. <i>arsTechnica</i>. Retrieved March 22, 2019 from https://arstechnica.com/gadgets/2018/09/progressive-web-apps-moving-mainstream-as-twitter-makes-its-mobile-site-the-main-one/</p>\n",
    "<p>geoparsepy 1.0.4 (n.d.) Python Software Foundation. Retrieved March 22, 2019 from https://pypi.org/project/geoparsepy/</p>\n",
    "<p>Moffitt, C. (2018, March 26) Overview of Pandas Data Types. <i>Practical Business Python</i>. Retrieved March 20, 2019 from https://pbpython.com/pandas_dtypes.html</p>\n",
    "<p>Lynn, S. (n.d.) Summarising, Aggregating, and Grouping data in Python Pandas. Retrieved March 20, 2019 from https://www.shanelynn.ie/summarising-aggregation-and-grouping-data-in-python-pandas/ </p>\n",
    "<p>Handling Missing Data (n.d.) <i>Python Data Science Handbook</i>. Retrieved March 20, 2019 from https://jakevdp.github.io/PythonDataScienceHandbook/03.04-missing-values.html</p>\n",
    "<p>How to hide axis of plot in Matplotlib (2015, June 29). <i>Code Yarns: Notes from the world of software.</i>Retrieved March 22, 2019 from https://codeyarns.com/2015/06/29/how-to-hide-axis-of-plot-in-matplotlib/\n",
    "<p>Working with Time Series (n.d.) <i>Python Data Science Handbook</i>. Retrieved March 20, 2019 from https://jakevdp.github.io/PythonDataScienceHandbook/03.11-working-with-time-series.html</p>"
   ]
  }
 ],
 "metadata": {
  "kernelspec": {
   "display_name": "Python 3",
   "language": "python",
   "name": "python3"
  },
  "language_info": {
   "codemirror_mode": {
    "name": "ipython",
    "version": 3
   },
   "file_extension": ".py",
   "mimetype": "text/x-python",
   "name": "python",
   "nbconvert_exporter": "python",
   "pygments_lexer": "ipython3",
   "version": "3.6.6"
  }
 },
 "nbformat": 4,
 "nbformat_minor": 2
}
