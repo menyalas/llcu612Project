{
 "cells": [
  {
   "cell_type": "markdown",
   "metadata": {},
   "source": [
    "<h1>Descriptive Statistics of Variables other than \"Text\" and \"Entities\"</h1>"
   ]
  },
  {
   "cell_type": "markdown",
   "metadata": {},
   "source": [
    "<h3>Packages & Options</h3>"
   ]
  },
  {
   "cell_type": "code",
   "execution_count": 1,
   "metadata": {},
   "outputs": [],
   "source": [
    "import pandas as pd\n",
    "pd.set_option('display.max_colwidth', -1)"
   ]
  },
  {
   "cell_type": "markdown",
   "metadata": {},
   "source": [
    "<h3>Import & Prepare Data for Analysis</h3>"
   ]
  },
  {
   "cell_type": "code",
   "execution_count": 30,
   "metadata": {},
   "outputs": [
    {
     "data": {
      "text/html": [
       "<div>\n",
       "<style scoped>\n",
       "    .dataframe tbody tr th:only-of-type {\n",
       "        vertical-align: middle;\n",
       "    }\n",
       "\n",
       "    .dataframe tbody tr th {\n",
       "        vertical-align: top;\n",
       "    }\n",
       "\n",
       "    .dataframe thead th {\n",
       "        text-align: right;\n",
       "    }\n",
       "</style>\n",
       "<table border=\"1\" class=\"dataframe\">\n",
       "  <thead>\n",
       "    <tr style=\"text-align: right;\">\n",
       "      <th></th>\n",
       "      <th>id_str</th>\n",
       "      <th>from_user</th>\n",
       "      <th>text</th>\n",
       "      <th>created_at</th>\n",
       "      <th>time</th>\n",
       "      <th>geo_coordinates</th>\n",
       "      <th>user_lang</th>\n",
       "      <th>in_reply_to_user_id_str</th>\n",
       "      <th>in_reply_to_screen_name</th>\n",
       "      <th>from_user_id_str</th>\n",
       "      <th>in_reply_to_status_id_str</th>\n",
       "      <th>source</th>\n",
       "      <th>profile_image_url</th>\n",
       "      <th>user_followers_count</th>\n",
       "      <th>user_friends_count</th>\n",
       "      <th>user_location</th>\n",
       "      <th>status_url</th>\n",
       "      <th>entities_str</th>\n",
       "    </tr>\n",
       "  </thead>\n",
       "  <tbody>\n",
       "    <tr>\n",
       "      <th>1</th>\n",
       "      <td>1.102720e+18</td>\n",
       "      <td>BlueelvisEric</td>\n",
       "      <td>RT @1776Stonewall: https://t.co/CyucESMlFM  Texas health officials report that nearly 200 people contracted mumps in migrant detention facilities located across the state so far this fiscal year.</td>\n",
       "      <td>Mon Mar 04 23:59:40 +0000 2019</td>\n",
       "      <td>04/03/2019 23:59:40</td>\n",
       "      <td>NaN</td>\n",
       "      <td>en</td>\n",
       "      <td>NaN</td>\n",
       "      <td>NaN</td>\n",
       "      <td>3.109106e+09</td>\n",
       "      <td>NaN</td>\n",
       "      <td>&lt;a href=\"http://twitter.com/download/android\" rel=\"nofollow\"&gt;Twitter for Android&lt;/a&gt;</td>\n",
       "      <td>http://pbs.twimg.com/profile_images/1062099415421411333/EZCmOCeu_normal.jpg</td>\n",
       "      <td>940</td>\n",
       "      <td>225.0</td>\n",
       "      <td>top your momma</td>\n",
       "      <td>http://twitter.com/BlueelvisEric/statuses/1102720294035353606</td>\n",
       "      <td>{\"hashtags\":[],\"symbols\":[],\"user_mentions\":[{\"screen_name\":\"1776Stonewall\",\"name\":\"Stonewall Jackson\",\"id\":800086706678419500,\"id_str\":\"800086706678419456\",\"indices\":[3,17]}],\"urls\":[{\"url\":\"https://t.co/CyucESMlFM\",\"expanded_url\":\"https://www.breitbart.com/border/2019/03/04/200-cases-of-mumps-confirmed-in-texas-migrant-detention-centers/\",\"display_url\":\"breitbart.com/border/2019/03…\",\"indices\":[19,42]}]}</td>\n",
       "    </tr>\n",
       "  </tbody>\n",
       "</table>\n",
       "</div>"
      ],
      "text/plain": [
       "         id_str      from_user  \\\n",
       "1  1.102720e+18  BlueelvisEric   \n",
       "\n",
       "                                                                                                                                                                                                  text  \\\n",
       "1  RT @1776Stonewall: https://t.co/CyucESMlFM  Texas health officials report that nearly 200 people contracted mumps in migrant detention facilities located across the state so far this fiscal year.   \n",
       "\n",
       "                       created_at                 time geo_coordinates  \\\n",
       "1  Mon Mar 04 23:59:40 +0000 2019  04/03/2019 23:59:40  NaN              \n",
       "\n",
       "  user_lang  in_reply_to_user_id_str in_reply_to_screen_name  \\\n",
       "1  en       NaN                       NaN                      \n",
       "\n",
       "   from_user_id_str  in_reply_to_status_id_str  \\\n",
       "1  3.109106e+09     NaN                          \n",
       "\n",
       "                                                                                 source  \\\n",
       "1  <a href=\"http://twitter.com/download/android\" rel=\"nofollow\">Twitter for Android</a>   \n",
       "\n",
       "                                                             profile_image_url  \\\n",
       "1  http://pbs.twimg.com/profile_images/1062099415421411333/EZCmOCeu_normal.jpg   \n",
       "\n",
       "   user_followers_count  user_friends_count   user_location  \\\n",
       "1  940                   225.0               top your momma   \n",
       "\n",
       "                                                      status_url  \\\n",
       "1  http://twitter.com/BlueelvisEric/statuses/1102720294035353606   \n",
       "\n",
       "                                                                                                                                                                                                                                                                                                                                                                                                                entities_str  \n",
       "1  {\"hashtags\":[],\"symbols\":[],\"user_mentions\":[{\"screen_name\":\"1776Stonewall\",\"name\":\"Stonewall Jackson\",\"id\":800086706678419500,\"id_str\":\"800086706678419456\",\"indices\":[3,17]}],\"urls\":[{\"url\":\"https://t.co/CyucESMlFM\",\"expanded_url\":\"https://www.breitbart.com/border/2019/03/04/200-cases-of-mumps-confirmed-in-texas-migrant-detention-centers/\",\"display_url\":\"breitbart.com/border/2019/03…\",\"indices\":[19,42]}]}  "
      ]
     },
     "execution_count": 30,
     "metadata": {},
     "output_type": "execute_result"
    }
   ],
   "source": [
    "df = pd.read_csv('20190313_TW_MigrantMigration.csv')\n",
    "df[1:2]"
   ]
  },
  {
   "cell_type": "code",
   "execution_count": 31,
   "metadata": {},
   "outputs": [
    {
     "data": {
      "text/html": [
       "<div>\n",
       "<style scoped>\n",
       "    .dataframe tbody tr th:only-of-type {\n",
       "        vertical-align: middle;\n",
       "    }\n",
       "\n",
       "    .dataframe tbody tr th {\n",
       "        vertical-align: top;\n",
       "    }\n",
       "\n",
       "    .dataframe thead th {\n",
       "        text-align: right;\n",
       "    }\n",
       "</style>\n",
       "<table border=\"1\" class=\"dataframe\">\n",
       "  <thead>\n",
       "    <tr style=\"text-align: right;\">\n",
       "      <th></th>\n",
       "      <th>id_str</th>\n",
       "      <th>from_user</th>\n",
       "      <th>created_at</th>\n",
       "      <th>geo_coordinates</th>\n",
       "      <th>user_lang</th>\n",
       "      <th>in_reply_to_user_id_str</th>\n",
       "      <th>in_reply_to_screen_name</th>\n",
       "      <th>from_user_id_str</th>\n",
       "      <th>in_reply_to_status_id_str</th>\n",
       "      <th>source</th>\n",
       "      <th>profile_image_url</th>\n",
       "      <th>user_followers_count</th>\n",
       "      <th>user_friends_count</th>\n",
       "      <th>user_location</th>\n",
       "      <th>status_url</th>\n",
       "    </tr>\n",
       "  </thead>\n",
       "  <tbody>\n",
       "    <tr>\n",
       "      <th>1</th>\n",
       "      <td>1.102720e+18</td>\n",
       "      <td>BlueelvisEric</td>\n",
       "      <td>Mon Mar 04 23:59:40 +0000 2019</td>\n",
       "      <td>NaN</td>\n",
       "      <td>en</td>\n",
       "      <td>NaN</td>\n",
       "      <td>NaN</td>\n",
       "      <td>3.109106e+09</td>\n",
       "      <td>NaN</td>\n",
       "      <td>&lt;a href=\"http://twitter.com/download/android\" rel=\"nofollow\"&gt;Twitter for Android&lt;/a&gt;</td>\n",
       "      <td>http://pbs.twimg.com/profile_images/1062099415421411333/EZCmOCeu_normal.jpg</td>\n",
       "      <td>940</td>\n",
       "      <td>225.0</td>\n",
       "      <td>top your momma</td>\n",
       "      <td>http://twitter.com/BlueelvisEric/statuses/1102720294035353606</td>\n",
       "    </tr>\n",
       "  </tbody>\n",
       "</table>\n",
       "</div>"
      ],
      "text/plain": [
       "         id_str      from_user                      created_at  \\\n",
       "1  1.102720e+18  BlueelvisEric  Mon Mar 04 23:59:40 +0000 2019   \n",
       "\n",
       "  geo_coordinates user_lang  in_reply_to_user_id_str in_reply_to_screen_name  \\\n",
       "1  NaN             en       NaN                       NaN                      \n",
       "\n",
       "   from_user_id_str  in_reply_to_status_id_str  \\\n",
       "1  3.109106e+09     NaN                          \n",
       "\n",
       "                                                                                 source  \\\n",
       "1  <a href=\"http://twitter.com/download/android\" rel=\"nofollow\">Twitter for Android</a>   \n",
       "\n",
       "                                                             profile_image_url  \\\n",
       "1  http://pbs.twimg.com/profile_images/1062099415421411333/EZCmOCeu_normal.jpg   \n",
       "\n",
       "   user_followers_count  user_friends_count   user_location  \\\n",
       "1  940                   225.0               top your momma   \n",
       "\n",
       "                                                      status_url  \n",
       "1  http://twitter.com/BlueelvisEric/statuses/1102720294035353606  "
      ]
     },
     "execution_count": 31,
     "metadata": {},
     "output_type": "execute_result"
    }
   ],
   "source": [
    "#Drop the \"text\" and \"entities\" columns that Sunyam is working on. \n",
    "#Also dropping time because it is redundant with \"created_at\"\n",
    "df = df.drop(['text','time','entities_str'], axis=1)\n",
    "df[1:2]"
   ]
  },
  {
   "cell_type": "code",
   "execution_count": 32,
   "metadata": {},
   "outputs": [
    {
     "data": {
      "text/html": [
       "<div>\n",
       "<style scoped>\n",
       "    .dataframe tbody tr th:only-of-type {\n",
       "        vertical-align: middle;\n",
       "    }\n",
       "\n",
       "    .dataframe tbody tr th {\n",
       "        vertical-align: top;\n",
       "    }\n",
       "\n",
       "    .dataframe thead th {\n",
       "        text-align: right;\n",
       "    }\n",
       "</style>\n",
       "<table border=\"1\" class=\"dataframe\">\n",
       "  <thead>\n",
       "    <tr style=\"text-align: right;\">\n",
       "      <th></th>\n",
       "      <th>tweetID</th>\n",
       "      <th>authorScreen</th>\n",
       "      <th>tweetTimeDate</th>\n",
       "      <th>tweetGeo</th>\n",
       "      <th>authorLang</th>\n",
       "      <th>authorID_original</th>\n",
       "      <th>authorScreen_original</th>\n",
       "      <th>authorID</th>\n",
       "      <th>tweetID_original</th>\n",
       "      <th>tweetMethod</th>\n",
       "      <th>authorPicture</th>\n",
       "      <th>authorFollower</th>\n",
       "      <th>authorFriend</th>\n",
       "      <th>authorLocation</th>\n",
       "      <th>tweetURL</th>\n",
       "    </tr>\n",
       "  </thead>\n",
       "  <tbody>\n",
       "    <tr>\n",
       "      <th>1</th>\n",
       "      <td>1.102720e+18</td>\n",
       "      <td>BlueelvisEric</td>\n",
       "      <td>Mon Mar 04 23:59:40 +0000 2019</td>\n",
       "      <td>NaN</td>\n",
       "      <td>en</td>\n",
       "      <td>NaN</td>\n",
       "      <td>NaN</td>\n",
       "      <td>3.109106e+09</td>\n",
       "      <td>NaN</td>\n",
       "      <td>&lt;a href=\"http://twitter.com/download/android\" rel=\"nofollow\"&gt;Twitter for Android&lt;/a&gt;</td>\n",
       "      <td>http://pbs.twimg.com/profile_images/1062099415421411333/EZCmOCeu_normal.jpg</td>\n",
       "      <td>940</td>\n",
       "      <td>225.0</td>\n",
       "      <td>top your momma</td>\n",
       "      <td>http://twitter.com/BlueelvisEric/statuses/1102720294035353606</td>\n",
       "    </tr>\n",
       "  </tbody>\n",
       "</table>\n",
       "</div>"
      ],
      "text/plain": [
       "        tweetID   authorScreen                   tweetTimeDate tweetGeo  \\\n",
       "1  1.102720e+18  BlueelvisEric  Mon Mar 04 23:59:40 +0000 2019  NaN       \n",
       "\n",
       "  authorLang  authorID_original authorScreen_original      authorID  \\\n",
       "1  en        NaN                 NaN                   3.109106e+09   \n",
       "\n",
       "   tweetID_original  \\\n",
       "1 NaN                 \n",
       "\n",
       "                                                                            tweetMethod  \\\n",
       "1  <a href=\"http://twitter.com/download/android\" rel=\"nofollow\">Twitter for Android</a>   \n",
       "\n",
       "                                                                 authorPicture  \\\n",
       "1  http://pbs.twimg.com/profile_images/1062099415421411333/EZCmOCeu_normal.jpg   \n",
       "\n",
       "   authorFollower  authorFriend  authorLocation  \\\n",
       "1  940             225.0         top your momma   \n",
       "\n",
       "                                                        tweetURL  \n",
       "1  http://twitter.com/BlueelvisEric/statuses/1102720294035353606  "
      ]
     },
     "execution_count": 32,
     "metadata": {},
     "output_type": "execute_result"
    }
   ],
   "source": [
    "#Rename remaining columns\n",
    "df = df.rename(columns={\"id_str\":\"tweetID\",\n",
    "                        \"from_user\":\"authorScreen\",\n",
    "                        \"created_at\":\"tweetTimeDate\",\n",
    "                        \"geo_coordinates\":\"tweetGeo\",\n",
    "                        \"user_lang\":\"authorLang\",\n",
    "                        \"in_reply_to_user_id_str\":\"authorID_original\",\n",
    "                        \"in_reply_to_screen_name\":\"authorScreen_original\",\n",
    "                        \"from_user_id_str\":\"authorID\",\n",
    "                        \"in_reply_to_status_id_str\":\"tweetID_original\",\n",
    "                        \"source\":\"tweetMethod\", \n",
    "                        \"profile_image_url\":\"authorPicture\",\n",
    "                        \"user_followers_count\":\"authorFollower\",\n",
    "                        \"user_friends_count\":\"authorFriend\",\n",
    "                        \"user_location\":\"authorLocation\",\"status_url\":\"tweetURL\"})\n",
    "\n",
    "df[1:2]"
   ]
  },
  {
   "cell_type": "code",
   "execution_count": 33,
   "metadata": {},
   "outputs": [
    {
     "data": {
      "text/html": [
       "<div>\n",
       "<style scoped>\n",
       "    .dataframe tbody tr th:only-of-type {\n",
       "        vertical-align: middle;\n",
       "    }\n",
       "\n",
       "    .dataframe tbody tr th {\n",
       "        vertical-align: top;\n",
       "    }\n",
       "\n",
       "    .dataframe thead th {\n",
       "        text-align: right;\n",
       "    }\n",
       "</style>\n",
       "<table border=\"1\" class=\"dataframe\">\n",
       "  <thead>\n",
       "    <tr style=\"text-align: right;\">\n",
       "      <th></th>\n",
       "      <th>authorFollower</th>\n",
       "      <th>authorFriend</th>\n",
       "      <th>authorID</th>\n",
       "      <th>authorID_original</th>\n",
       "      <th>authorLang</th>\n",
       "      <th>authorLocation</th>\n",
       "      <th>authorPicture</th>\n",
       "      <th>authorScreen</th>\n",
       "      <th>authorScreen_original</th>\n",
       "      <th>tweetGeo</th>\n",
       "      <th>tweetID</th>\n",
       "      <th>tweetID_original</th>\n",
       "      <th>tweetMethod</th>\n",
       "      <th>tweetTimeDate</th>\n",
       "      <th>tweetURL</th>\n",
       "    </tr>\n",
       "  </thead>\n",
       "  <tbody>\n",
       "    <tr>\n",
       "      <th>1</th>\n",
       "      <td>940</td>\n",
       "      <td>225.0</td>\n",
       "      <td>3.109106e+09</td>\n",
       "      <td>NaN</td>\n",
       "      <td>en</td>\n",
       "      <td>top your momma</td>\n",
       "      <td>http://pbs.twimg.com/profile_images/1062099415421411333/EZCmOCeu_normal.jpg</td>\n",
       "      <td>BlueelvisEric</td>\n",
       "      <td>NaN</td>\n",
       "      <td>NaN</td>\n",
       "      <td>1.102720e+18</td>\n",
       "      <td>NaN</td>\n",
       "      <td>&lt;a href=\"http://twitter.com/download/android\" rel=\"nofollow\"&gt;Twitter for Android&lt;/a&gt;</td>\n",
       "      <td>Mon Mar 04 23:59:40 +0000 2019</td>\n",
       "      <td>http://twitter.com/BlueelvisEric/statuses/1102720294035353606</td>\n",
       "    </tr>\n",
       "  </tbody>\n",
       "</table>\n",
       "</div>"
      ],
      "text/plain": [
       "   authorFollower  authorFriend      authorID  authorID_original authorLang  \\\n",
       "1  940             225.0         3.109106e+09 NaN                 en          \n",
       "\n",
       "   authorLocation  \\\n",
       "1  top your momma   \n",
       "\n",
       "                                                                 authorPicture  \\\n",
       "1  http://pbs.twimg.com/profile_images/1062099415421411333/EZCmOCeu_normal.jpg   \n",
       "\n",
       "    authorScreen authorScreen_original tweetGeo       tweetID  \\\n",
       "1  BlueelvisEric  NaN                   NaN      1.102720e+18   \n",
       "\n",
       "   tweetID_original  \\\n",
       "1 NaN                 \n",
       "\n",
       "                                                                            tweetMethod  \\\n",
       "1  <a href=\"http://twitter.com/download/android\" rel=\"nofollow\">Twitter for Android</a>   \n",
       "\n",
       "                    tweetTimeDate  \\\n",
       "1  Mon Mar 04 23:59:40 +0000 2019   \n",
       "\n",
       "                                                        tweetURL  \n",
       "1  http://twitter.com/BlueelvisEric/statuses/1102720294035353606  "
      ]
     },
     "execution_count": 33,
     "metadata": {},
     "output_type": "execute_result"
    }
   ],
   "source": [
    "#Group author and tweet variables together in the dataset.\n",
    "df = df.sort_index(axis=1)\n",
    "df[1:2]"
   ]
  },
  {
   "cell_type": "markdown",
   "metadata": {},
   "source": [
    "<h3>Data Overview</h3>"
   ]
  },
  {
   "cell_type": "code",
   "execution_count": 34,
   "metadata": {},
   "outputs": [
    {
     "name": "stdout",
     "output_type": "stream",
     "text": [
      "<class 'pandas.core.frame.DataFrame'>\n",
      "RangeIndex: 123524 entries, 0 to 123523\n",
      "Data columns (total 15 columns):\n",
      "authorFollower           123524 non-null int64\n",
      "authorFriend             123286 non-null float64\n",
      "authorID                 123524 non-null float64\n",
      "authorID_original        9666 non-null float64\n",
      "authorLang               123524 non-null object\n",
      "authorLocation           85206 non-null object\n",
      "authorPicture            123524 non-null object\n",
      "authorScreen             123524 non-null object\n",
      "authorScreen_original    9666 non-null object\n",
      "tweetGeo                 45 non-null object\n",
      "tweetID                  123524 non-null float64\n",
      "tweetID_original         9158 non-null float64\n",
      "tweetMethod              123524 non-null object\n",
      "tweetTimeDate            123524 non-null object\n",
      "tweetURL                 123524 non-null object\n",
      "dtypes: float64(5), int64(1), object(9)\n",
      "memory usage: 14.1+ MB\n"
     ]
    }
   ],
   "source": [
    "df.info()"
   ]
  },
  {
   "cell_type": "markdown",
   "metadata": {},
   "source": [
    "<p>The data contain 123,524 observations for 15 variables: nine that describe the author of the tweet and six that describe the tweet. </p>\n",
    "<p>The author variables are:\n",
    "<ul>\n",
    "    <li>author ID and screen name</li>\n",
    "    <li>author location (from profile)</li>\n",
    "    <li>author follower count (users following the author)</li>\n",
    "    <li>author friend count (users the author follows)</li>\n",
    "    <li>author profile picture (URL)</li>\n",
    "    <li>screen name and ID of the original author (if tweet is a reply)</li></ul>\n",
    "The tweet variables are:\n",
    "<ul>\n",
    "    <li>tweet ID</li>\n",
    "    <li>tweet time and date</li>\n",
    "    <li>tweet URL</li>\n",
    "    <li>tweet method (e.g., HTML indicating whether author tweeted via web app, phone, Facebook)</li>\n",
    "    <li>tweet geographical coordinates (if available)</li>\n",
    "    <li>ID of the original tweet (if tweet is a reply)</li></ul></p>\n",
    "<p>There is no missing data for authorFollower, authorID, authorLang, authorPicture, authorScreen, tweetID, tweetMethod, tweetTimeDate and tweetURL. There is some missing data for authorFriend, authorID_original, authorScreen_original and tweetID_original. There is a lot of missing data for tweetGeo.</p>\n",
    "<p>Six of the variables contain numerical data (authorFollower, authorFriend, authorID, authorID_original, tweetID and tweetID_original); however, the last four of these are numerical representations of things (either Twitter accounts or tweets). As such, the data should be treated as object rather than numerical data. The remaining nine variables contain object (string) data. Five out of the six numerical variables are of the type float64, which is a format allowing a fractional number. One is of the type int64, which includes only whole numbers. For all of the variables, the int64 data type makes more sense because the things being represented (Twitter accounts and tweets) do not come in parts.</p>\n",
    "<p>Of the object-type variables, some might be more appopriately represented as categorical data. This would involve re-coding the data into a limited number of fixed levels (or factors). Some variables to consider for this treatment are authorLang (e.g., levels: English, French, Spanish, German, other), authorLocation (e.g., places grouped by continent), authorPicture (e.g., binomial: field or not) and tweetMethod (e.g., levels: app, website, other). A close examination of each variable is necessary to determine the suitable levels.</p>\n",
    "<p>There is some duplicate information contained in the dataset. One variable -- \"time\" -- was dropped in line 31 for this reason. Similarly, authorID and authorID_original are redundant with authorScreen and authorScreen_original. The \"ID\" variables provide the account numbers associated with the tweets, whereas the \"screen\" variables provide the screennames.</p>\n",
    "<p>Given the above information, and to facilitate preparation of the descriptive statistics, I will further process the dataset as follows:\n",
    "    <ol>\n",
    "        <li>Drop authorID and authorID_original.</li>\n",
    "        <li>Drop tweetGeo.</li>\n",
    "        <li>Convert authorFriend from float64 to int64.</li>\n",
    "        <li>Convert tweetID and tweetID_original from numerical to object.</li>\n",
    "        <li>Create new categorical variables and recode into them data from authorLang, authorLocation, authorPicture and tweetMethod (keeping original variables).</li>\n",
    "        <li>Parse tweetTimeDate into a pandas Timestamp object.</li></ol></p>\n",
    "        \n",
    "<p>Note: While I do not expect the tweetURL variable to factor directly into our analysis, I propose keeping it in the dataset for reference purposes. </p>"
   ]
  },
  {
   "cell_type": "markdown",
   "metadata": {},
   "source": [
    "<h3>Additional data processing prior to analysis</h3>"
   ]
  },
  {
   "cell_type": "code",
   "execution_count": 36,
   "metadata": {},
   "outputs": [
    {
     "data": {
      "text/html": [
       "<div>\n",
       "<style scoped>\n",
       "    .dataframe tbody tr th:only-of-type {\n",
       "        vertical-align: middle;\n",
       "    }\n",
       "\n",
       "    .dataframe tbody tr th {\n",
       "        vertical-align: top;\n",
       "    }\n",
       "\n",
       "    .dataframe thead th {\n",
       "        text-align: right;\n",
       "    }\n",
       "</style>\n",
       "<table border=\"1\" class=\"dataframe\">\n",
       "  <thead>\n",
       "    <tr style=\"text-align: right;\">\n",
       "      <th></th>\n",
       "      <th>authorFollower</th>\n",
       "      <th>authorFriend</th>\n",
       "      <th>authorLang</th>\n",
       "      <th>authorLocation</th>\n",
       "      <th>authorPicture</th>\n",
       "      <th>authorScreen</th>\n",
       "      <th>authorScreen_original</th>\n",
       "      <th>tweetID</th>\n",
       "      <th>tweetID_original</th>\n",
       "      <th>tweetMethod</th>\n",
       "      <th>tweetTimeDate</th>\n",
       "      <th>tweetURL</th>\n",
       "    </tr>\n",
       "  </thead>\n",
       "  <tbody>\n",
       "    <tr>\n",
       "      <th>1</th>\n",
       "      <td>940</td>\n",
       "      <td>225.0</td>\n",
       "      <td>en</td>\n",
       "      <td>top your momma</td>\n",
       "      <td>http://pbs.twimg.com/profile_images/1062099415421411333/EZCmOCeu_normal.jpg</td>\n",
       "      <td>BlueelvisEric</td>\n",
       "      <td>NaN</td>\n",
       "      <td>1.102720e+18</td>\n",
       "      <td>NaN</td>\n",
       "      <td>&lt;a href=\"http://twitter.com/download/android\" rel=\"nofollow\"&gt;Twitter for Android&lt;/a&gt;</td>\n",
       "      <td>Mon Mar 04 23:59:40 +0000 2019</td>\n",
       "      <td>http://twitter.com/BlueelvisEric/statuses/1102720294035353606</td>\n",
       "    </tr>\n",
       "  </tbody>\n",
       "</table>\n",
       "</div>"
      ],
      "text/plain": [
       "   authorFollower  authorFriend authorLang  authorLocation  \\\n",
       "1  940             225.0         en         top your momma   \n",
       "\n",
       "                                                                 authorPicture  \\\n",
       "1  http://pbs.twimg.com/profile_images/1062099415421411333/EZCmOCeu_normal.jpg   \n",
       "\n",
       "    authorScreen authorScreen_original       tweetID  tweetID_original  \\\n",
       "1  BlueelvisEric  NaN                   1.102720e+18 NaN                 \n",
       "\n",
       "                                                                            tweetMethod  \\\n",
       "1  <a href=\"http://twitter.com/download/android\" rel=\"nofollow\">Twitter for Android</a>   \n",
       "\n",
       "                    tweetTimeDate  \\\n",
       "1  Mon Mar 04 23:59:40 +0000 2019   \n",
       "\n",
       "                                                        tweetURL  \n",
       "1  http://twitter.com/BlueelvisEric/statuses/1102720294035353606  "
      ]
     },
     "execution_count": 36,
     "metadata": {},
     "output_type": "execute_result"
    }
   ],
   "source": [
    "#1 and 2. Drop authorID, authorID_original and tweetGeo\n",
    "df = df.drop(['authorID','authorID_original','tweetGeo'], axis=1)\n",
    "df[1:2]"
   ]
  },
  {
   "cell_type": "code",
   "execution_count": null,
   "metadata": {},
   "outputs": [],
   "source": [
    "#3. Convert authorFriend from float64 to int64.\n",
    "df['authorFriend'] = df['authorFriend'].fillna(0)#Replace NaN with zeros (to represent zero friends)\n",
    "df['authorFriend'] = df['authorFriend'].astype(\"int\")#Convert to int64\n",
    "df.dtypes['authorFriend']#Check"
   ]
  },
  {
   "cell_type": "code",
   "execution_count": 67,
   "metadata": {},
   "outputs": [
    {
     "data": {
      "text/plain": [
       "tweetID             object\n",
       "tweetID_original    object\n",
       "dtype: object"
      ]
     },
     "execution_count": 67,
     "metadata": {},
     "output_type": "execute_result"
    }
   ],
   "source": [
    "#4. Convert tweetID and tweetID_original from numerical to object.\n",
    "cols = [\"tweetID\",\"tweetID_original\"]\n",
    "df[cols] = df[cols].astype(\"str\")\n",
    "df.dtypes[cols]"
   ]
  },
  {
   "cell_type": "markdown",
   "metadata": {},
   "source": [
    "<h3>Notes and code for later use</h3>"
   ]
  },
  {
   "cell_type": "code",
   "execution_count": 6,
   "metadata": {},
   "outputs": [
    {
     "name": "stdout",
     "output_type": "stream",
     "text": [
      "88304\n"
     ]
    }
   ],
   "source": [
    "users = df['from_user'].tolist()\n",
    "users = set(users)\n",
    "print(len(users))"
   ]
  },
  {
   "cell_type": "code",
   "execution_count": 16,
   "metadata": {},
   "outputs": [
    {
     "data": {
      "text/plain": [
       "en         106942\n",
       "fr         4523  \n",
       "de         3016  \n",
       "es         2488  \n",
       "en-gb      2107  \n",
       "nl         735   \n",
       "it         685   \n",
       "ja         656   \n",
       "sv         470   \n",
       "pt         334   \n",
       "en-GB      292   \n",
       "pl         221   \n",
       "ar         134   \n",
       "ca         117   \n",
       "da         112   \n",
       "fi         83    \n",
       "tr         82    \n",
       "ru         77    \n",
       "el         71    \n",
       "ko         57    \n",
       "id         46    \n",
       "uk         36    \n",
       "cs         34    \n",
       "sr         24    \n",
       "hu         21    \n",
       "no         20    \n",
       "zh-cn      18    \n",
       "he         15    \n",
       "zh-CN      14    \n",
       "lv         10    \n",
       "ro         9     \n",
       "hr         8     \n",
       "zh-tw      8     \n",
       "fa         7     \n",
       "xx-lc      7     \n",
       "bg         7     \n",
       "th         6     \n",
       "en-AU      5     \n",
       "ga         4     \n",
       "vi         4     \n",
       "gl         4     \n",
       "zh-TW      2     \n",
       "nb         2     \n",
       "eu         2     \n",
       "hi         2     \n",
       "sk         2     \n",
       "fil        1     \n",
       "pt-PT      1     \n",
       "en-US      1     \n",
       "zh-Hans    1     \n",
       "msa        1     \n",
       "Name: user_lang, dtype: int64"
      ]
     },
     "execution_count": 16,
     "metadata": {},
     "output_type": "execute_result"
    }
   ],
   "source": [
    "df['user_lang'].value_counts()"
   ]
  },
  {
   "cell_type": "code",
   "execution_count": 17,
   "metadata": {},
   "outputs": [],
   "source": [
    "from collections import Counter"
   ]
  },
  {
   "cell_type": "code",
   "execution_count": 19,
   "metadata": {},
   "outputs": [
    {
     "data": {
      "text/plain": [
       "Counter({'en': 106942,\n",
       "         'ja': 656,\n",
       "         'fi': 83,\n",
       "         'de': 3016,\n",
       "         'en-gb': 2107,\n",
       "         'fr': 4523,\n",
       "         'es': 2488,\n",
       "         'nl': 735,\n",
       "         'en-GB': 292,\n",
       "         'id': 46,\n",
       "         'pl': 221,\n",
       "         'it': 685,\n",
       "         'ar': 134,\n",
       "         'ko': 57,\n",
       "         'zh-TW': 2,\n",
       "         'ca': 117,\n",
       "         'tr': 82,\n",
       "         'el': 71,\n",
       "         'pt': 334,\n",
       "         'hu': 21,\n",
       "         'sv': 470,\n",
       "         'uk': 36,\n",
       "         'ru': 77,\n",
       "         'no': 20,\n",
       "         'fa': 7,\n",
       "         'da': 112,\n",
       "         'zh-CN': 14,\n",
       "         'xx-lc': 7,\n",
       "         'ro': 9,\n",
       "         'pt-PT': 1,\n",
       "         'eu': 2,\n",
       "         'bg': 7,\n",
       "         'cs': 34,\n",
       "         'hr': 8,\n",
       "         'sr': 24,\n",
       "         'he': 15,\n",
       "         'vi': 4,\n",
       "         'zh-cn': 18,\n",
       "         'gl': 4,\n",
       "         'zh-tw': 8,\n",
       "         'en-AU': 5,\n",
       "         'lv': 10,\n",
       "         'th': 6,\n",
       "         'nb': 2,\n",
       "         'hi': 2,\n",
       "         'en-US': 1,\n",
       "         'sk': 2,\n",
       "         'msa': 1,\n",
       "         'fil': 1,\n",
       "         'zh-Hans': 1,\n",
       "         'ga': 4})"
      ]
     },
     "execution_count": 19,
     "metadata": {},
     "output_type": "execute_result"
    }
   ],
   "source": [
    "langs = df['user_lang'].tolist()\n",
    "Counter(langs) #counter object"
   ]
  },
  {
   "cell_type": "code",
   "execution_count": 22,
   "metadata": {},
   "outputs": [
    {
     "data": {
      "text/html": [
       "<div>\n",
       "<style scoped>\n",
       "    .dataframe tbody tr th:only-of-type {\n",
       "        vertical-align: middle;\n",
       "    }\n",
       "\n",
       "    .dataframe tbody tr th {\n",
       "        vertical-align: top;\n",
       "    }\n",
       "\n",
       "    .dataframe thead th {\n",
       "        text-align: right;\n",
       "    }\n",
       "</style>\n",
       "<table border=\"1\" class=\"dataframe\">\n",
       "  <thead>\n",
       "    <tr style=\"text-align: right;\">\n",
       "      <th></th>\n",
       "      <th>id_str</th>\n",
       "      <th>from_user</th>\n",
       "    </tr>\n",
       "  </thead>\n",
       "  <tbody>\n",
       "    <tr>\n",
       "      <th>0</th>\n",
       "      <td>1.102720e+18</td>\n",
       "      <td>darleneclarke5</td>\n",
       "    </tr>\n",
       "    <tr>\n",
       "      <th>1</th>\n",
       "      <td>1.102720e+18</td>\n",
       "      <td>BlueelvisEric</td>\n",
       "    </tr>\n",
       "    <tr>\n",
       "      <th>2</th>\n",
       "      <td>1.102720e+18</td>\n",
       "      <td>Potus16Abe</td>\n",
       "    </tr>\n",
       "    <tr>\n",
       "      <th>3</th>\n",
       "      <td>1.102720e+18</td>\n",
       "      <td>soozbo</td>\n",
       "    </tr>\n",
       "    <tr>\n",
       "      <th>4</th>\n",
       "      <td>1.102720e+18</td>\n",
       "      <td>jp_dutch</td>\n",
       "    </tr>\n",
       "  </tbody>\n",
       "</table>\n",
       "</div>"
      ],
      "text/plain": [
       "         id_str       from_user\n",
       "0  1.102720e+18  darleneclarke5\n",
       "1  1.102720e+18  BlueelvisEric \n",
       "2  1.102720e+18  Potus16Abe    \n",
       "3  1.102720e+18  soozbo        \n",
       "4  1.102720e+18  jp_dutch      "
      ]
     },
     "execution_count": 22,
     "metadata": {},
     "output_type": "execute_result"
    }
   ],
   "source": [
    "df2 = df[['id_str', 'from_user']]\n",
    "df2.head()"
   ]
  },
  {
   "cell_type": "code",
   "execution_count": 30,
   "metadata": {},
   "outputs": [
    {
     "name": "stdout",
     "output_type": "stream",
     "text": [
      "[(1.10272e+18, 'BlueelvisEric'), (1.10272e+18, 'Potus16Abe'), (1.10272e+18, 'soozbo'), (1.10272e+18, 'jp_dutch'), (1.10272e+18, 'RJ_Kendall'), (1.10272e+18, 'gabrieleverett'), (1.10272e+18, 'lT1g0n8T2'), (1.10272e+18, 'suse_______'), (1.10272e+18, 'ffd365')]\n"
     ]
    }
   ],
   "source": [
    "L1 = []\n",
    "for x in df2.values:\n",
    "    tup = tuple(x)\n",
    "    L1.append(tup)\n",
    "print(L1[1:10])"
   ]
  },
  {
   "cell_type": "code",
   "execution_count": 32,
   "metadata": {},
   "outputs": [
    {
     "name": "stdout",
     "output_type": "stream",
     "text": [
      "[(1.10272e+18, 'BlueelvisEric'), (1.10272e+18, 'Potus16Abe'), (1.10272e+18, 'soozbo'), (1.10272e+18, 'jp_dutch'), (1.10272e+18, 'RJ_Kendall'), (1.10272e+18, 'gabrieleverett'), (1.10272e+18, 'lT1g0n8T2'), (1.10272e+18, 'suse_______'), (1.10272e+18, 'ffd365')]\n"
     ]
    }
   ],
   "source": [
    "L2 = [tuple(x) for x in df2.values]\n",
    "print(L2[1:10])"
   ]
  },
  {
   "cell_type": "code",
   "execution_count": 34,
   "metadata": {},
   "outputs": [
    {
     "data": {
      "text/plain": [
       "True"
      ]
     },
     "execution_count": 34,
     "metadata": {},
     "output_type": "execute_result"
    }
   ],
   "source": [
    "L1 == L2"
   ]
  },
  {
   "cell_type": "code",
   "execution_count": 43,
   "metadata": {},
   "outputs": [],
   "source": [
    "import dateutil"
   ]
  },
  {
   "cell_type": "code",
   "execution_count": 53,
   "metadata": {},
   "outputs": [
    {
     "data": {
      "text/plain": [
       "id_str\n",
       "1.102720e+18   2019-03-04 23:59:47+00:00\n",
       "1.102720e+18   2019-03-04 23:59:40+00:00\n",
       "1.102720e+18   2019-03-04 23:59:38+00:00\n",
       "1.102720e+18   2019-03-04 23:59:34+00:00\n",
       "1.102720e+18   2019-03-04 23:59:32+00:00\n",
       "1.102720e+18   2019-03-04 23:59:28+00:00\n",
       "1.102720e+18   2019-03-04 23:59:26+00:00\n",
       "1.102720e+18   2019-03-04 23:59:19+00:00\n",
       "1.102720e+18   2019-03-04 23:59:18+00:00\n",
       "1.102720e+18   2019-03-04 23:59:11+00:00\n",
       "1.102720e+18   2019-03-04 23:59:09+00:00\n",
       "1.102720e+18   2019-03-04 23:59:04+00:00\n",
       "1.102720e+18   2019-03-04 23:58:58+00:00\n",
       "1.102720e+18   2019-03-04 23:58:52+00:00\n",
       "1.102720e+18   2019-03-04 23:58:49+00:00\n",
       "1.102720e+18   2019-03-04 23:58:47+00:00\n",
       "1.102720e+18   2019-03-04 23:58:46+00:00\n",
       "1.102720e+18   2019-03-04 23:58:36+00:00\n",
       "1.102720e+18   2019-03-04 23:58:36+00:00\n",
       "1.102720e+18   2019-03-04 23:58:34+00:00\n",
       "1.102720e+18   2019-03-04 23:58:33+00:00\n",
       "1.102720e+18   2019-03-04 23:58:33+00:00\n",
       "1.102720e+18   2019-03-04 23:58:32+00:00\n",
       "1.102720e+18   2019-03-04 23:58:31+00:00\n",
       "1.102720e+18   2019-03-04 23:58:30+00:00\n",
       "1.102720e+18   2019-03-04 23:58:27+00:00\n",
       "1.102720e+18   2019-03-04 23:58:27+00:00\n",
       "1.102720e+18   2019-03-04 23:58:20+00:00\n",
       "1.102720e+18   2019-03-04 23:58:17+00:00\n",
       "1.102720e+18   2019-03-04 23:58:14+00:00\n",
       "                          ...           \n",
       "1.087460e+18   2019-01-21 21:36:45+00:00\n",
       "1.087460e+18   2019-01-21 21:36:44+00:00\n",
       "1.087460e+18   2019-01-21 21:36:40+00:00\n",
       "1.087460e+18   2019-01-21 21:36:37+00:00\n",
       "1.087460e+18   2019-01-21 21:36:33+00:00\n",
       "1.087460e+18   2019-01-21 21:36:31+00:00\n",
       "1.087460e+18   2019-01-21 21:36:28+00:00\n",
       "1.087460e+18   2019-01-21 21:36:24+00:00\n",
       "1.087460e+18   2019-01-21 21:36:24+00:00\n",
       "1.087460e+18   2019-01-21 21:36:22+00:00\n",
       "1.087460e+18   2019-01-21 21:36:20+00:00\n",
       "1.087460e+18   2019-01-21 21:36:19+00:00\n",
       "1.087460e+18   2019-01-21 21:36:15+00:00\n",
       "1.087460e+18   2019-01-21 21:36:14+00:00\n",
       "1.087460e+18   2019-01-21 21:36:08+00:00\n",
       "1.087460e+18   2019-01-21 21:36:08+00:00\n",
       "1.087460e+18   2019-01-21 21:36:02+00:00\n",
       "1.087460e+18   2019-01-21 21:36:01+00:00\n",
       "1.087460e+18   2019-01-21 21:35:57+00:00\n",
       "1.087460e+18   2019-01-21 21:35:55+00:00\n",
       "1.087460e+18   2019-01-21 21:35:54+00:00\n",
       "1.087460e+18   2019-01-21 21:35:53+00:00\n",
       "1.087460e+18   2019-01-21 21:35:46+00:00\n",
       "1.087460e+18   2019-01-21 21:35:45+00:00\n",
       "1.087460e+18   2019-01-21 21:35:33+00:00\n",
       "1.087460e+18   2019-01-21 21:35:32+00:00\n",
       "1.087460e+18   2019-01-21 21:35:31+00:00\n",
       "1.087460e+18   2019-01-21 21:35:28+00:00\n",
       "1.087460e+18   2019-01-21 21:35:26+00:00\n",
       "1.087460e+18   2019-01-21 21:35:26+00:00\n",
       "Name: created_at_new, Length: 123524, dtype: datetime64[ns, tzutc()]"
      ]
     },
     "execution_count": 53,
     "metadata": {},
     "output_type": "execute_result"
    }
   ],
   "source": [
    "data['created_at_new'] = data['created_at'].apply(dateutil.parser.parse, dayfirst=True)\n",
    "data['created_at_new']"
   ]
  },
  {
   "cell_type": "code",
   "execution_count": 54,
   "metadata": {},
   "outputs": [
    {
     "data": {
      "text/plain": [
       "id_str\n",
       "1.102720e+18   2019-03-04 23:59:47\n",
       "1.102720e+18   2019-03-04 23:59:40\n",
       "1.102720e+18   2019-03-04 23:59:38\n",
       "1.102720e+18   2019-03-04 23:59:34\n",
       "1.102720e+18   2019-03-04 23:59:32\n",
       "1.102720e+18   2019-03-04 23:59:28\n",
       "1.102720e+18   2019-03-04 23:59:26\n",
       "1.102720e+18   2019-03-04 23:59:19\n",
       "1.102720e+18   2019-03-04 23:59:18\n",
       "1.102720e+18   2019-03-04 23:59:11\n",
       "1.102720e+18   2019-03-04 23:59:09\n",
       "1.102720e+18   2019-03-04 23:59:04\n",
       "1.102720e+18   2019-03-04 23:58:58\n",
       "1.102720e+18   2019-03-04 23:58:52\n",
       "1.102720e+18   2019-03-04 23:58:49\n",
       "1.102720e+18   2019-03-04 23:58:47\n",
       "1.102720e+18   2019-03-04 23:58:46\n",
       "1.102720e+18   2019-03-04 23:58:36\n",
       "1.102720e+18   2019-03-04 23:58:36\n",
       "1.102720e+18   2019-03-04 23:58:34\n",
       "1.102720e+18   2019-03-04 23:58:33\n",
       "1.102720e+18   2019-03-04 23:58:33\n",
       "1.102720e+18   2019-03-04 23:58:32\n",
       "1.102720e+18   2019-03-04 23:58:31\n",
       "1.102720e+18   2019-03-04 23:58:30\n",
       "1.102720e+18   2019-03-04 23:58:27\n",
       "1.102720e+18   2019-03-04 23:58:27\n",
       "1.102720e+18   2019-03-04 23:58:20\n",
       "1.102720e+18   2019-03-04 23:58:17\n",
       "1.102720e+18   2019-03-04 23:58:14\n",
       "                       ...        \n",
       "1.087460e+18   2019-01-21 21:36:45\n",
       "1.087460e+18   2019-01-21 21:36:44\n",
       "1.087460e+18   2019-01-21 21:36:40\n",
       "1.087460e+18   2019-01-21 21:36:37\n",
       "1.087460e+18   2019-01-21 21:36:33\n",
       "1.087460e+18   2019-01-21 21:36:31\n",
       "1.087460e+18   2019-01-21 21:36:28\n",
       "1.087460e+18   2019-01-21 21:36:24\n",
       "1.087460e+18   2019-01-21 21:36:24\n",
       "1.087460e+18   2019-01-21 21:36:22\n",
       "1.087460e+18   2019-01-21 21:36:20\n",
       "1.087460e+18   2019-01-21 21:36:19\n",
       "1.087460e+18   2019-01-21 21:36:15\n",
       "1.087460e+18   2019-01-21 21:36:14\n",
       "1.087460e+18   2019-01-21 21:36:08\n",
       "1.087460e+18   2019-01-21 21:36:08\n",
       "1.087460e+18   2019-01-21 21:36:02\n",
       "1.087460e+18   2019-01-21 21:36:01\n",
       "1.087460e+18   2019-01-21 21:35:57\n",
       "1.087460e+18   2019-01-21 21:35:55\n",
       "1.087460e+18   2019-01-21 21:35:54\n",
       "1.087460e+18   2019-01-21 21:35:53\n",
       "1.087460e+18   2019-01-21 21:35:46\n",
       "1.087460e+18   2019-01-21 21:35:45\n",
       "1.087460e+18   2019-01-21 21:35:33\n",
       "1.087460e+18   2019-01-21 21:35:32\n",
       "1.087460e+18   2019-01-21 21:35:31\n",
       "1.087460e+18   2019-01-21 21:35:28\n",
       "1.087460e+18   2019-01-21 21:35:26\n",
       "1.087460e+18   2019-01-21 21:35:26\n",
       "Name: time_new, Length: 123524, dtype: datetime64[ns]"
      ]
     },
     "execution_count": 54,
     "metadata": {},
     "output_type": "execute_result"
    }
   ],
   "source": [
    "data['time_new'] = data['time'].apply(dateutil.parser.parse, dayfirst=True)\n",
    "data['time_new']"
   ]
  },
  {
   "cell_type": "code",
   "execution_count": 55,
   "metadata": {},
   "outputs": [
    {
     "data": {
      "text/plain": [
       "count     123524         \n",
       "unique    88304          \n",
       "top       ac_migrant_er34\n",
       "freq      132            \n",
       "Name: from_user, dtype: object"
      ]
     },
     "execution_count": 55,
     "metadata": {},
     "output_type": "execute_result"
    }
   ],
   "source": [
    " data['from_user'].describe()"
   ]
  },
  {
   "cell_type": "markdown",
   "metadata": {},
   "source": [
    "<h3>References</h3>"
   ]
  },
  {
   "cell_type": "markdown",
   "metadata": {},
   "source": [
    "<p>Moffitt, C. (2018, March 26) Overview of Pandas Data Types. <i>Practical Business Python</i>. Retrieved March 20, 2019 from https://pbpython.com/pandas_dtypes.html</p>\n",
    "<p>Lynn, S. (n.d.) Summarising, Aggregating, and Grouping data in Python Pandas. Retrieved March 20, 2019 from https://www.shanelynn.ie/summarising-aggregation-and-grouping-data-in-python-pandas/ </p>\n",
    "<p>Handling Missing Data (n.d.) <i>Python Data Science Handbook</i>. Retrieved March 20, 2019 from https://jakevdp.github.io/PythonDataScienceHandbook/03.04-missing-values.html</p>\n",
    "<p>Working with Time Series (n.d.) <i>Python Data Science Handbook</i>. Retrieved March 20, 2019 from https://jakevdp.github.io/PythonDataScienceHandbook/03.11-working-with-time-series.html</p>"
   ]
  }
 ],
 "metadata": {
  "kernelspec": {
   "display_name": "Python 3",
   "language": "python",
   "name": "python3"
  },
  "language_info": {
   "codemirror_mode": {
    "name": "ipython",
    "version": 3
   },
   "file_extension": ".py",
   "mimetype": "text/x-python",
   "name": "python",
   "nbconvert_exporter": "python",
   "pygments_lexer": "ipython3",
   "version": "3.6.6"
  }
 },
 "nbformat": 4,
 "nbformat_minor": 2
}
