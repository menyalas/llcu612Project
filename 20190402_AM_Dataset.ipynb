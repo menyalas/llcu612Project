{
 "cells": [
  {
   "cell_type": "markdown",
   "metadata": {},
   "source": [
    "## Towards a final dataset\n",
    "\n",
    "- Create final dataset from existing scripts"
   ]
  },
  {
   "cell_type": "markdown",
   "metadata": {},
   "source": [
    "Environment"
   ]
  },
  {
   "cell_type": "code",
   "execution_count": 47,
   "metadata": {},
   "outputs": [],
   "source": [
    "import pandas as pd"
   ]
  },
  {
   "cell_type": "code",
   "execution_count": 48,
   "metadata": {},
   "outputs": [],
   "source": [
    "from vaderSentiment.vaderSentiment import SentimentIntensityAnalyzer"
   ]
  },
  {
   "cell_type": "code",
   "execution_count": 49,
   "metadata": {},
   "outputs": [],
   "source": [
    "import re"
   ]
  },
  {
   "cell_type": "code",
   "execution_count": 50,
   "metadata": {},
   "outputs": [],
   "source": [
    "import dateutil"
   ]
  },
  {
   "cell_type": "markdown",
   "metadata": {},
   "source": [
    "Original data"
   ]
  },
  {
   "cell_type": "code",
   "execution_count": 51,
   "metadata": {},
   "outputs": [
    {
     "data": {
      "text/html": [
       "<div>\n",
       "<style scoped>\n",
       "    .dataframe tbody tr th:only-of-type {\n",
       "        vertical-align: middle;\n",
       "    }\n",
       "\n",
       "    .dataframe tbody tr th {\n",
       "        vertical-align: top;\n",
       "    }\n",
       "\n",
       "    .dataframe thead th {\n",
       "        text-align: right;\n",
       "    }\n",
       "</style>\n",
       "<table border=\"1\" class=\"dataframe\">\n",
       "  <thead>\n",
       "    <tr style=\"text-align: right;\">\n",
       "      <th></th>\n",
       "      <th>id_str</th>\n",
       "      <th>from_user</th>\n",
       "      <th>text</th>\n",
       "      <th>created_at</th>\n",
       "      <th>time</th>\n",
       "      <th>geo_coordinates</th>\n",
       "      <th>user_lang</th>\n",
       "      <th>in_reply_to_user_id_str</th>\n",
       "      <th>in_reply_to_screen_name</th>\n",
       "      <th>from_user_id_str</th>\n",
       "      <th>in_reply_to_status_id_str</th>\n",
       "      <th>source</th>\n",
       "      <th>profile_image_url</th>\n",
       "      <th>user_followers_count</th>\n",
       "      <th>user_friends_count</th>\n",
       "      <th>user_location</th>\n",
       "      <th>status_url</th>\n",
       "      <th>entities_str</th>\n",
       "    </tr>\n",
       "  </thead>\n",
       "  <tbody>\n",
       "    <tr>\n",
       "      <th>0</th>\n",
       "      <td>1.102720e+18</td>\n",
       "      <td>darleneclarke5</td>\n",
       "      <td>RT @ezralevant: Abdul Habash, a Syrian migrant...</td>\n",
       "      <td>Mon Mar 04 23:59:47 +0000 2019</td>\n",
       "      <td>04/03/2019 23:59:47</td>\n",
       "      <td>NaN</td>\n",
       "      <td>en</td>\n",
       "      <td>NaN</td>\n",
       "      <td>NaN</td>\n",
       "      <td>564257648.0</td>\n",
       "      <td>NaN</td>\n",
       "      <td>&lt;a href=\"http://twitter.com\" rel=\"nofollow\"&gt;Tw...</td>\n",
       "      <td>http://abs.twimg.com/sticky/default_profile_im...</td>\n",
       "      <td>197</td>\n",
       "      <td>579.0</td>\n",
       "      <td>NaN</td>\n",
       "      <td>http://twitter.com/darleneclarke5/statuses/110...</td>\n",
       "      <td>{\"hashtags\":[],\"symbols\":[],\"user_mentions\":[{...</td>\n",
       "    </tr>\n",
       "  </tbody>\n",
       "</table>\n",
       "</div>"
      ],
      "text/plain": [
       "         id_str       from_user  \\\n",
       "0  1.102720e+18  darleneclarke5   \n",
       "\n",
       "                                                text  \\\n",
       "0  RT @ezralevant: Abdul Habash, a Syrian migrant...   \n",
       "\n",
       "                       created_at                 time geo_coordinates  \\\n",
       "0  Mon Mar 04 23:59:47 +0000 2019  04/03/2019 23:59:47             NaN   \n",
       "\n",
       "  user_lang  in_reply_to_user_id_str in_reply_to_screen_name  \\\n",
       "0        en                      NaN                     NaN   \n",
       "\n",
       "   from_user_id_str  in_reply_to_status_id_str  \\\n",
       "0       564257648.0                        NaN   \n",
       "\n",
       "                                              source  \\\n",
       "0  <a href=\"http://twitter.com\" rel=\"nofollow\">Tw...   \n",
       "\n",
       "                                   profile_image_url  user_followers_count  \\\n",
       "0  http://abs.twimg.com/sticky/default_profile_im...                   197   \n",
       "\n",
       "   user_friends_count user_location  \\\n",
       "0               579.0           NaN   \n",
       "\n",
       "                                          status_url  \\\n",
       "0  http://twitter.com/darleneclarke5/statuses/110...   \n",
       "\n",
       "                                        entities_str  \n",
       "0  {\"hashtags\":[],\"symbols\":[],\"user_mentions\":[{...  "
      ]
     },
     "execution_count": 51,
     "metadata": {},
     "output_type": "execute_result"
    }
   ],
   "source": [
    "data = pd.read_csv('20190313_TW_Migrant-Migration.csv')\n",
    "data[0:1]"
   ]
  },
  {
   "cell_type": "code",
   "execution_count": 52,
   "metadata": {},
   "outputs": [],
   "source": [
    "#New df\n",
    "df=data"
   ]
  },
  {
   "cell_type": "markdown",
   "metadata": {},
   "source": [
    "Current state of the dataframe"
   ]
  },
  {
   "cell_type": "code",
   "execution_count": 72,
   "metadata": {},
   "outputs": [
    {
     "data": {
      "text/html": [
       "<div>\n",
       "<style scoped>\n",
       "    .dataframe tbody tr th:only-of-type {\n",
       "        vertical-align: middle;\n",
       "    }\n",
       "\n",
       "    .dataframe tbody tr th {\n",
       "        vertical-align: top;\n",
       "    }\n",
       "\n",
       "    .dataframe thead th {\n",
       "        text-align: right;\n",
       "    }\n",
       "</style>\n",
       "<table border=\"1\" class=\"dataframe\">\n",
       "  <thead>\n",
       "    <tr style=\"text-align: right;\">\n",
       "      <th></th>\n",
       "      <th>authorFollower</th>\n",
       "      <th>authorFriend</th>\n",
       "      <th>authorID</th>\n",
       "      <th>authorID_original</th>\n",
       "      <th>authorLang</th>\n",
       "      <th>authorLocation</th>\n",
       "      <th>authorPicture</th>\n",
       "      <th>authorScreen</th>\n",
       "      <th>authorScreen_original</th>\n",
       "      <th>tweetID</th>\n",
       "      <th>...</th>\n",
       "      <th>tweetMethod</th>\n",
       "      <th>tweetSentiment</th>\n",
       "      <th>tweetText</th>\n",
       "      <th>tweetTimeDate</th>\n",
       "      <th>tweetURL</th>\n",
       "      <th>authorLang_new</th>\n",
       "      <th>authorPicture_new</th>\n",
       "      <th>tweetMethod_new</th>\n",
       "      <th>tweetDate</th>\n",
       "      <th>tweetDate_new</th>\n",
       "    </tr>\n",
       "  </thead>\n",
       "  <tbody>\n",
       "    <tr>\n",
       "      <th>0</th>\n",
       "      <td>197</td>\n",
       "      <td>579.0</td>\n",
       "      <td>564257648.0</td>\n",
       "      <td>NaN</td>\n",
       "      <td>en</td>\n",
       "      <td>NaN</td>\n",
       "      <td>http://abs.twimg.com/sticky/default_profile_im...</td>\n",
       "      <td>darleneclarke5</td>\n",
       "      <td>NaN</td>\n",
       "      <td>0</td>\n",
       "      <td>...</td>\n",
       "      <td>&lt;a href=\"http://twitter.com\" rel=\"nofollow\"&gt;Tw...</td>\n",
       "      <td>-0.9403</td>\n",
       "      <td>RT @ezralevant: Abdul Habash, a Syrian migrant...</td>\n",
       "      <td>Mon Mar 04 23:59:47 +0000 2019</td>\n",
       "      <td>http://twitter.com/darleneclarke5/statuses/110...</td>\n",
       "      <td>English</td>\n",
       "      <td>Default</td>\n",
       "      <td>Web_Standard</td>\n",
       "      <td>Mon Mar 04 2019</td>\n",
       "      <td>2019-03-04</td>\n",
       "    </tr>\n",
       "  </tbody>\n",
       "</table>\n",
       "<p>1 rows × 21 columns</p>\n",
       "</div>"
      ],
      "text/plain": [
       "   authorFollower  authorFriend     authorID  authorID_original authorLang  \\\n",
       "0             197         579.0  564257648.0                NaN         en   \n",
       "\n",
       "  authorLocation                                      authorPicture  \\\n",
       "0            NaN  http://abs.twimg.com/sticky/default_profile_im...   \n",
       "\n",
       "     authorScreen authorScreen_original  tweetID      ...       \\\n",
       "0  darleneclarke5                   NaN        0      ...        \n",
       "\n",
       "                                         tweetMethod tweetSentiment  \\\n",
       "0  <a href=\"http://twitter.com\" rel=\"nofollow\">Tw...        -0.9403   \n",
       "\n",
       "                                           tweetText  \\\n",
       "0  RT @ezralevant: Abdul Habash, a Syrian migrant...   \n",
       "\n",
       "                    tweetTimeDate  \\\n",
       "0  Mon Mar 04 23:59:47 +0000 2019   \n",
       "\n",
       "                                            tweetURL authorLang_new  \\\n",
       "0  http://twitter.com/darleneclarke5/statuses/110...        English   \n",
       "\n",
       "  authorPicture_new tweetMethod_new        tweetDate tweetDate_new  \n",
       "0           Default    Web_Standard  Mon Mar 04 2019    2019-03-04  \n",
       "\n",
       "[1 rows x 21 columns]"
      ]
     },
     "execution_count": 72,
     "metadata": {},
     "output_type": "execute_result"
    }
   ],
   "source": [
    "df[0:1]"
   ]
  },
  {
   "cell_type": "markdown",
   "metadata": {},
   "source": [
    "Unique ID variable for each tweet"
   ]
  },
  {
   "cell_type": "code",
   "execution_count": 54,
   "metadata": {},
   "outputs": [],
   "source": [
    "df.reset_index(inplace=True)\n",
    "df.rename(columns={'index':'tweetID'}, inplace=True)"
   ]
  },
  {
   "cell_type": "markdown",
   "metadata": {},
   "source": [
    "Sentiment Score"
   ]
  },
  {
   "cell_type": "code",
   "execution_count": 55,
   "metadata": {},
   "outputs": [],
   "source": [
    "map_ID_text = dict((tuple(x) for x in df[['tweetID', 'text']].values))"
   ]
  },
  {
   "cell_type": "code",
   "execution_count": 56,
   "metadata": {},
   "outputs": [],
   "source": [
    "analyzer = SentimentIntensityAnalyzer()\n",
    "\n",
    "map_ID_valence_dict = {}\n",
    "\n",
    "for ID, text in map_ID_text.items():\n",
    "    map_ID_valence_dict[ID] = analyzer.polarity_scores(text)"
   ]
  },
  {
   "cell_type": "code",
   "execution_count": 57,
   "metadata": {},
   "outputs": [],
   "source": [
    "map_ID_senti_score = {} # Mapping IDs to a single score 'combined'\n",
    "\n",
    "for ID, val in map_ID_valence_dict.items():\n",
    "    map_ID_senti_score[ID] = val['compound']"
   ]
  },
  {
   "cell_type": "code",
   "execution_count": 58,
   "metadata": {},
   "outputs": [],
   "source": [
    "df['SentiScore_VADER'] = df['tweetID'].map(map_ID_senti_score)"
   ]
  },
  {
   "cell_type": "markdown",
   "metadata": {},
   "source": [
    "Drop unnecessary columns"
   ]
  },
  {
   "cell_type": "code",
   "execution_count": 60,
   "metadata": {},
   "outputs": [],
   "source": [
    "#Drop the \"text\" and \"entities\" columns that Sunyam is working on. \n",
    "#Also dropping time because it is redundant with \"created_at\"\n",
    "df = df.drop(['id_str','time','entities_str', 'geo_coordinates'], axis=1)"
   ]
  },
  {
   "cell_type": "code",
   "execution_count": 61,
   "metadata": {},
   "outputs": [],
   "source": [
    "#Rename columns\n",
    "df = df.rename(columns={\"id_str\":\"tweetID\",\n",
    "                        \"from_user\":\"authorScreen\",\n",
    "                        \"created_at\":\"tweetTimeDate\",\n",
    "                        \"geo_coordinates\":\"tweetGeo\",\n",
    "                        \"user_lang\":\"authorLang\",\n",
    "                        \"in_reply_to_user_id_str\":\"authorID_original\",\n",
    "                        \"in_reply_to_screen_name\":\"authorScreen_original\",\n",
    "                        \"from_user_id_str\":\"authorID\",\n",
    "                        \"in_reply_to_status_id_str\":\"tweetID_original\",\n",
    "                        \"source\":\"tweetMethod\", \n",
    "                        \"profile_image_url\":\"authorPicture\",\n",
    "                        \"user_followers_count\":\"authorFollower\",\n",
    "                        \"user_friends_count\":\"authorFriend\",\n",
    "                        \"user_location\":\"authorLocation\",\n",
    "                        \"status_url\":\"tweetURL\",\n",
    "                        \"text\":\"tweetText\",\n",
    "                        \"SentiScore_VADER\": \"tweetSentiment\"})"
   ]
  },
  {
   "cell_type": "code",
   "execution_count": 62,
   "metadata": {},
   "outputs": [],
   "source": [
    "#Group author and tweet variables together in the dataset.\n",
    "df = df.sort_index(axis=1)"
   ]
  },
  {
   "cell_type": "markdown",
   "metadata": {},
   "source": [
    "Recode variables"
   ]
  },
  {
   "cell_type": "code",
   "execution_count": 64,
   "metadata": {},
   "outputs": [
    {
     "data": {
      "text/plain": [
       "English    109347\n",
       "Other       14177\n",
       "Name: authorLang_new, dtype: int64"
      ]
     },
     "execution_count": 64,
     "metadata": {},
     "output_type": "execute_result"
    }
   ],
   "source": [
    "df[\"authorLang_new\"] = df[\"authorLang\"].astype('category')\n",
    "df['authorLang_new'] = df['authorLang_new'].replace(regex=r'en.*', value='English')\n",
    "df['authorLang_new'] = df['authorLang_new'].replace(regex=r'^((?!English)\\S*)', value='Other')\n",
    "df['authorLang_new'].value_counts()"
   ]
  },
  {
   "cell_type": "code",
   "execution_count": 65,
   "metadata": {},
   "outputs": [
    {
     "data": {
      "text/plain": [
       "Personalized    117131\n",
       "Default           6393\n",
       "Name: authorPicture_new, dtype: int64"
      ]
     },
     "execution_count": 65,
     "metadata": {},
     "output_type": "execute_result"
    }
   ],
   "source": [
    "df[\"authorPicture_new\"] = df[\"authorPicture\"].astype('category')\n",
    "df['authorPicture_new'] = df['authorPicture_new'].replace(regex=r'^.*default_profile_images\\S*', value='Default')\n",
    "df['authorPicture_new'] = df['authorPicture_new'].replace(regex=r'^.*/profile_images\\S*', value='Personalized')\n",
    "df['authorPicture_new'].value_counts()"
   ]
  },
  {
   "cell_type": "code",
   "execution_count": 66,
   "metadata": {},
   "outputs": [],
   "source": [
    "df[\"tweetMethod_new\"] = df[\"tweetMethod\"].astype('category')"
   ]
  },
  {
   "cell_type": "code",
   "execution_count": 67,
   "metadata": {},
   "outputs": [
    {
     "data": {
      "text/plain": [
       "Smartphone                                                                             74524\n",
       "Web_Standard                                                                           24144\n",
       "Web_Lite                                                                               16764\n",
       "<a href=\"http://www.facebook.com/twitter\" rel=\"nofollow\">Facebook</a>                   1300\n",
       "<a href=\"https://about.twitter.com/products/tweetdeck\" rel=\"nofollow\">TweetDeck</a>     1079\n",
       "<a href=\"https://ifttt.com\" rel=\"nofollow\">IFTTT</a>                                     500\n",
       "<a href=\"https://dlvrit.com/\" rel=\"nofollow\">dlvr.it</a>                                 474\n",
       "<a href=\"https://www.hootsuite.com\" rel=\"nofollow\">Hootsuite Inc.</a>                    457\n",
       "<a href=\"https://buffer.com\" rel=\"nofollow\">Buffer</a>                                   360\n",
       "<a href=\"http://publicize.wp.com/\" rel=\"nofollow\">WordPress.com</a>                      266\n",
       "Name: tweetMethod_new, dtype: int64"
      ]
     },
     "execution_count": 67,
     "metadata": {},
     "output_type": "execute_result"
    }
   ],
   "source": [
    "df['tweetMethod_new'] = df['tweetMethod_new'].replace(regex=r'^.*Twitter for iPhone\\S*', value='Smartphone')\n",
    "df['tweetMethod_new'] = df['tweetMethod_new'].replace(regex=r'^.*Twitter for Android\\S*', value='Smartphone')\n",
    "df['tweetMethod_new'] = df['tweetMethod_new'].replace(regex=r'^.*Twitter Web Client\\S*', value='Web_Standard')\n",
    "df['tweetMethod_new'] = df['tweetMethod_new'].replace(regex=r'^.*Twitter Web App\\S*', value='Web_Lite')\n",
    "df['tweetMethod_new'] = df['tweetMethod_new'].replace(regex=r'^.*Twitter for iPad\\S*', value='Web_Lite')\n",
    "df['tweetMethod_new'].value_counts()[0:10]"
   ]
  },
  {
   "cell_type": "code",
   "execution_count": 68,
   "metadata": {},
   "outputs": [
    {
     "data": {
      "text/plain": [
       "Smartphone      74524\n",
       "Web_Standard    24144\n",
       "Web_Lite        16764\n",
       "Other            8092\n",
       "Name: tweetMethod_new, dtype: int64"
      ]
     },
     "execution_count": 68,
     "metadata": {},
     "output_type": "execute_result"
    }
   ],
   "source": [
    "df['tweetMethod_new'] = df['tweetMethod_new'].replace(regex=r'^.*href.*', value='Other')\n",
    "df['tweetMethod_new'] = df['tweetMethod_new'].replace(regex=r'^Web_Standard.*(T1).*', value='Other')\n",
    "df['tweetMethod_new'].value_counts()"
   ]
  },
  {
   "cell_type": "code",
   "execution_count": 69,
   "metadata": {},
   "outputs": [
    {
     "data": {
      "text/plain": [
       "Smartphone      74524\n",
       "Web_Standard    24144\n",
       "Web_Lite        16764\n",
       "Other            8092\n",
       "Name: tweetMethod_new, dtype: int64"
      ]
     },
     "execution_count": 69,
     "metadata": {},
     "output_type": "execute_result"
    }
   ],
   "source": [
    "df['tweetDate'] = df['tweetTimeDate'].replace(regex=r'\\s\\d{2}:.*:\\d{2}\\s.{5}', value='')\n",
    "df['tweetDate_new'] = df['tweetDate'].apply(dateutil.parser.parse, dayfirst=True)"
   ]
  },
  {
   "cell_type": "code",
   "execution_count": 70,
   "metadata": {},
   "outputs": [
    {
     "data": {
      "text/plain": [
       "2019-02-28    2913\n",
       "2019-01-26    2910\n",
       "2019-02-22    2909\n",
       "2019-02-10    2906\n",
       "2019-02-04    2905\n",
       "2019-02-08    2902\n",
       "2019-02-11    2901\n",
       "2019-01-28    2900\n",
       "2019-03-01    2897\n",
       "Name: tweetDate_new, dtype: int64"
      ]
     },
     "execution_count": 70,
     "metadata": {},
     "output_type": "execute_result"
    }
   ],
   "source": [
    "df['tweetDate_new'].value_counts()[0:9]"
   ]
  },
  {
   "cell_type": "code",
   "execution_count": 71,
   "metadata": {},
   "outputs": [],
   "source": [
    "df.to_csv('20190402_AM_Dataset.csv',index=False)"
   ]
  }
 ],
 "metadata": {
  "kernelspec": {
   "display_name": "Python 3",
   "language": "python",
   "name": "python3"
  },
  "language_info": {
   "codemirror_mode": {
    "name": "ipython",
    "version": 3
   },
   "file_extension": ".py",
   "mimetype": "text/x-python",
   "name": "python",
   "nbconvert_exporter": "python",
   "pygments_lexer": "ipython3",
   "version": "3.7.0"
  }
 },
 "nbformat": 4,
 "nbformat_minor": 2
}
