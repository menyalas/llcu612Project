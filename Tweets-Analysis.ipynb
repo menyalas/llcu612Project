{
 "cells": [
  {
   "cell_type": "code",
   "execution_count": 1,
   "metadata": {
    "collapsed": true
   },
   "outputs": [],
   "source": [
    "# Imports:\n",
    "import pandas as pd\n",
    "pd.set_option('display.max_colwidth', -1)\n",
    "\n",
    "from nltk.tokenize import word_tokenize\n",
    "from nltk.probability import FreqDist\n",
    "from nltk.corpus import stopwords\n",
    "\n",
    "import re\n",
    "from collections import Counter\n",
    "\n",
    "import matplotlib.pyplot as plt\n",
    "%matplotlib inline"
   ]
  },
  {
   "cell_type": "code",
   "execution_count": 2,
   "metadata": {},
   "outputs": [
    {
     "data": {
      "text/html": [
       "<div>\n",
       "<style scoped>\n",
       "    .dataframe tbody tr th:only-of-type {\n",
       "        vertical-align: middle;\n",
       "    }\n",
       "\n",
       "    .dataframe tbody tr th {\n",
       "        vertical-align: top;\n",
       "    }\n",
       "\n",
       "    .dataframe thead th {\n",
       "        text-align: right;\n",
       "    }\n",
       "</style>\n",
       "<table border=\"1\" class=\"dataframe\">\n",
       "  <thead>\n",
       "    <tr style=\"text-align: right;\">\n",
       "      <th></th>\n",
       "      <th>authorFollower</th>\n",
       "      <th>authorFriend</th>\n",
       "      <th>authorID</th>\n",
       "      <th>authorID_original</th>\n",
       "      <th>authorLang</th>\n",
       "      <th>authorLocation</th>\n",
       "      <th>authorPicture</th>\n",
       "      <th>authorScreen</th>\n",
       "      <th>authorScreen_original</th>\n",
       "      <th>tweetEntities</th>\n",
       "      <th>tweetGeo</th>\n",
       "      <th>tweetID</th>\n",
       "      <th>tweetID_original</th>\n",
       "      <th>tweetMethod</th>\n",
       "      <th>tweetText</th>\n",
       "      <th>tweetTimeDate</th>\n",
       "      <th>tweetURL</th>\n",
       "    </tr>\n",
       "  </thead>\n",
       "  <tbody>\n",
       "    <tr>\n",
       "      <th>0</th>\n",
       "      <td>197</td>\n",
       "      <td>579.0</td>\n",
       "      <td>5.642576e+08</td>\n",
       "      <td>NaN</td>\n",
       "      <td>en</td>\n",
       "      <td>NaN</td>\n",
       "      <td>http://abs.twimg.com/sticky/default_profile_images/default_profile_normal.png</td>\n",
       "      <td>darleneclarke5</td>\n",
       "      <td>NaN</td>\n",
       "      <td>{\"hashtags\":[],\"symbols\":[],\"user_mentions\":[{\"screen_name\":\"ezralevant\",\"name\":\"Ezra Levant 🍁\",\"id\":20878297,\"id_str\":\"20878297\",\"indices\":[3,14]}],\"urls\":[]}</td>\n",
       "      <td>NaN</td>\n",
       "      <td>1.102720e+18</td>\n",
       "      <td>NaN</td>\n",
       "      <td>&lt;a href=\"http://twitter.com\" rel=\"nofollow\"&gt;Twitter Web Client&lt;/a&gt;</td>\n",
       "      <td>RT @ezralevant: Abdul Habash, a Syrian migrant to Canada, made a terrifying bomb threat against Jason Kenney. He and his dad told our reporter it’s no big deal — in fact, they’re mad the cops won’t give him his computer and phone back. #terrorists https://t.co/AujC0eU4Sk</td>\n",
       "      <td>Mon Mar 04 23:59:47 +0000 2019</td>\n",
       "      <td>http://twitter.com/darleneclarke5/statuses/1102720324875894785</td>\n",
       "    </tr>\n",
       "    <tr>\n",
       "      <th>1</th>\n",
       "      <td>940</td>\n",
       "      <td>225.0</td>\n",
       "      <td>3.109106e+09</td>\n",
       "      <td>NaN</td>\n",
       "      <td>en</td>\n",
       "      <td>top your momma</td>\n",
       "      <td>http://pbs.twimg.com/profile_images/1062099415421411333/EZCmOCeu_normal.jpg</td>\n",
       "      <td>BlueelvisEric</td>\n",
       "      <td>NaN</td>\n",
       "      <td>{\"hashtags\":[],\"symbols\":[],\"user_mentions\":[{\"screen_name\":\"1776Stonewall\",\"name\":\"Stonewall Jackson\",\"id\":800086706678419500,\"id_str\":\"800086706678419456\",\"indices\":[3,17]}],\"urls\":[{\"url\":\"https://t.co/CyucESMlFM\",\"expanded_url\":\"https://www.breitbart.com/border/2019/03/04/200-cases-of-mumps-confirmed-in-texas-migrant-detention-centers/\",\"display_url\":\"breitbart.com/border/2019/03…\",\"indices\":[19,42]}]}</td>\n",
       "      <td>NaN</td>\n",
       "      <td>1.102720e+18</td>\n",
       "      <td>NaN</td>\n",
       "      <td>&lt;a href=\"http://twitter.com/download/android\" rel=\"nofollow\"&gt;Twitter for Android&lt;/a&gt;</td>\n",
       "      <td>RT @1776Stonewall: https://t.co/CyucESMlFM  Texas health officials report that nearly 200 people contracted mumps in migrant detention facilities located across the state so far this fiscal year.</td>\n",
       "      <td>Mon Mar 04 23:59:40 +0000 2019</td>\n",
       "      <td>http://twitter.com/BlueelvisEric/statuses/1102720294035353606</td>\n",
       "    </tr>\n",
       "  </tbody>\n",
       "</table>\n",
       "</div>"
      ],
      "text/plain": [
       "   authorFollower  authorFriend      authorID  authorID_original authorLang  \\\n",
       "0  197             579.0         5.642576e+08 NaN                 en          \n",
       "1  940             225.0         3.109106e+09 NaN                 en          \n",
       "\n",
       "   authorLocation  \\\n",
       "0  NaN              \n",
       "1  top your momma   \n",
       "\n",
       "                                                                   authorPicture  \\\n",
       "0  http://abs.twimg.com/sticky/default_profile_images/default_profile_normal.png   \n",
       "1  http://pbs.twimg.com/profile_images/1062099415421411333/EZCmOCeu_normal.jpg     \n",
       "\n",
       "     authorScreen authorScreen_original  \\\n",
       "0  darleneclarke5  NaN                    \n",
       "1  BlueelvisEric   NaN                    \n",
       "\n",
       "                                                                                                                                                                                                                                                                                                                                                                                                               tweetEntities  \\\n",
       "0  {\"hashtags\":[],\"symbols\":[],\"user_mentions\":[{\"screen_name\":\"ezralevant\",\"name\":\"Ezra Levant 🍁\",\"id\":20878297,\"id_str\":\"20878297\",\"indices\":[3,14]}],\"urls\":[]}                                                                                                                                                                                                                                                             \n",
       "1  {\"hashtags\":[],\"symbols\":[],\"user_mentions\":[{\"screen_name\":\"1776Stonewall\",\"name\":\"Stonewall Jackson\",\"id\":800086706678419500,\"id_str\":\"800086706678419456\",\"indices\":[3,17]}],\"urls\":[{\"url\":\"https://t.co/CyucESMlFM\",\"expanded_url\":\"https://www.breitbart.com/border/2019/03/04/200-cases-of-mumps-confirmed-in-texas-migrant-detention-centers/\",\"display_url\":\"breitbart.com/border/2019/03…\",\"indices\":[19,42]}]}   \n",
       "\n",
       "  tweetGeo       tweetID  tweetID_original  \\\n",
       "0  NaN      1.102720e+18 NaN                 \n",
       "1  NaN      1.102720e+18 NaN                 \n",
       "\n",
       "                                                                            tweetMethod  \\\n",
       "0  <a href=\"http://twitter.com\" rel=\"nofollow\">Twitter Web Client</a>                     \n",
       "1  <a href=\"http://twitter.com/download/android\" rel=\"nofollow\">Twitter for Android</a>   \n",
       "\n",
       "                                                                                                                                                                                                                                                                         tweetText  \\\n",
       "0  RT @ezralevant: Abdul Habash, a Syrian migrant to Canada, made a terrifying bomb threat against Jason Kenney. He and his dad told our reporter it’s no big deal — in fact, they’re mad the cops won’t give him his computer and phone back. #terrorists https://t.co/AujC0eU4Sk   \n",
       "1  RT @1776Stonewall: https://t.co/CyucESMlFM  Texas health officials report that nearly 200 people contracted mumps in migrant detention facilities located across the state so far this fiscal year.                                                                               \n",
       "\n",
       "                    tweetTimeDate  \\\n",
       "0  Mon Mar 04 23:59:47 +0000 2019   \n",
       "1  Mon Mar 04 23:59:40 +0000 2019   \n",
       "\n",
       "                                                         tweetURL  \n",
       "0  http://twitter.com/darleneclarke5/statuses/1102720324875894785  \n",
       "1  http://twitter.com/BlueelvisEric/statuses/1102720294035353606   "
      ]
     },
     "execution_count": 2,
     "metadata": {},
     "output_type": "execute_result"
    }
   ],
   "source": [
    "# Load and prepare the DataFrame:\n",
    "\n",
    "df = pd.read_csv('./20190313_TW_Migrant-Migration.csv')\n",
    "\n",
    "# Drop 'time' column and rename columns:\n",
    "df.drop(['time'], axis=1, inplace=True)\n",
    "df = df.rename(columns={\"id_str\":\"tweetID\",\n",
    "                        \"from_user\":\"authorScreen\",\n",
    "                        \"text\":\"tweetText\",\n",
    "                        \"created_at\":\"tweetTimeDate\",\n",
    "                        \"geo_coordinates\":\"tweetGeo\",\n",
    "                        \"user_lang\":\"authorLang\",\n",
    "                        \"in_reply_to_user_id_str\":\"authorID_original\",\n",
    "                        \"in_reply_to_screen_name\":\"authorScreen_original\",\n",
    "                        \"from_user_id_str\":\"authorID\",\n",
    "                        \"in_reply_to_status_id_str\":\"tweetID_original\",\n",
    "                        \"source\":\"tweetMethod\", \n",
    "                        \"profile_image_url\":\"authorPicture\",\n",
    "                        \"user_followers_count\":\"authorFollower\",\n",
    "                        \"user_friends_count\":\"authorFriend\",\n",
    "                        \"user_location\":\"authorLocation\",\n",
    "                        \"status_url\":\"tweetURL\",\n",
    "                        \"entities_str\":\"tweetEntities\"})\n",
    "\n",
    "# Reorder column names:\n",
    "df.sort_index(axis=1, inplace=True)\n",
    "df.head(2)"
   ]
  },
  {
   "cell_type": "code",
   "execution_count": 3,
   "metadata": {
    "collapsed": true
   },
   "outputs": [],
   "source": [
    "tweets = df['tweetText'].tolist()"
   ]
  },
  {
   "cell_type": "markdown",
   "metadata": {},
   "source": [
    "## Count number of retweets, replies, and other tweets:"
   ]
  },
  {
   "cell_type": "code",
   "execution_count": 4,
   "metadata": {},
   "outputs": [
    {
     "name": "stdout",
     "output_type": "stream",
     "text": [
      "There are a total of 123524 tweets. Breakdown:\n",
      "Retweets = 97185\n",
      "Replies = 8940\n",
      "OtherTweets = 17399\n"
     ]
    }
   ],
   "source": [
    "number_of_retweets = 0\n",
    "number_of_replies = 0\n",
    "other_tweets = 0\n",
    "\n",
    "for tweet in tweets:\n",
    "    # Retweets\n",
    "    if tweet.startswith('RT'):\n",
    "        number_of_retweets += 1\n",
    "        \n",
    "    # Replies\n",
    "    elif tweet.startswith('@'):\n",
    "        number_of_replies += 1\n",
    "    \n",
    "    else:\n",
    "        other_tweets += 1\n",
    "\n",
    "print(\"There are a total of {} tweets. Breakdown:\\nRetweets = {}\\nReplies = {}\\nOtherTweets = {}\"\\\n",
    "      .format(len(tweets), number_of_retweets, number_of_replies, other_tweets))"
   ]
  },
  {
   "cell_type": "markdown",
   "metadata": {},
   "source": [
    "## Word frequency distribution:"
   ]
  },
  {
   "cell_type": "markdown",
   "metadata": {},
   "source": [
    "#### Preparing stopwords:"
   ]
  },
  {
   "cell_type": "code",
   "execution_count": 5,
   "metadata": {},
   "outputs": [
    {
     "data": {
      "text/plain": [
       "en    106942\n",
       "fr    4523  \n",
       "de    3016  \n",
       "es    2488  \n",
       "Name: authorLang, dtype: int64"
      ]
     },
     "execution_count": 5,
     "metadata": {},
     "output_type": "execute_result"
    }
   ],
   "source": [
    "# Most frequently used langauges in our dataset\n",
    "df['authorLang'].value_counts()[:4]"
   ]
  },
  {
   "cell_type": "code",
   "execution_count": 6,
   "metadata": {},
   "outputs": [
    {
     "name": "stdout",
     "output_type": "stream",
     "text": [
      "4 languages + custom stopwords, we have a total of 855 words.\n"
     ]
    }
   ],
   "source": [
    "# list of built-in stopwords for the top languages\n",
    "languages = ['english', 'french', 'german', 'spanish']\n",
    "\n",
    "STOPWORDS = []\n",
    "for lang in languages:\n",
    "    STOPWORDS.extend(stopwords.words(lang))\n",
    "\n",
    "# Stopwords that I came across: amp represents '&' and \"n't\" is not\n",
    "custom_stopwords = [\"amp\", \"n't\", \"rt\"]\n",
    "\n",
    "STOPWORDS.extend(custom_stopwords)\n",
    "print(\"4 languages + custom stopwords, we have a total of {} words.\".format(len(STOPWORDS)))"
   ]
  },
  {
   "cell_type": "code",
   "execution_count": 7,
   "metadata": {},
   "outputs": [
    {
     "name": "stdout",
     "output_type": "stream",
     "text": [
      "There are a total of 2351687 word tokens.\n"
     ]
    }
   ],
   "source": [
    "all_words = []\n",
    "\n",
    "for tweet in tweets:\n",
    "    words = word_tokenize(tweet)\n",
    "    \n",
    "    for w in words:\n",
    "        word = w.lower() # change to lowercase\n",
    "            \n",
    "        if word[0].isalpha() and word not in STOPWORDS: # skip non-words and skip stopwords\n",
    "            all_words.append(word)\n",
    "\n",
    "print(\"There are a total of {} word tokens.\".format(len(all_words))) # Includes repetition"
   ]
  },
  {
   "cell_type": "code",
   "execution_count": 8,
   "metadata": {},
   "outputs": [
    {
     "name": "stdout",
     "output_type": "stream",
     "text": [
      "[('https', 107479), ('migrant', 64977), ('migration', 41411), ('border', 20936), ('children', 19814), ('trump', 11709), ('us', 11044), ('caravan', 10782), ('people', 8672), ('crisis', 8243), ('u.s.', 7449), ('migrants', 6711), ('families', 6262), ('via', 6155), ('thousands', 6149), ('say', 5789), ('new', 5648), ('kids', 5465), ('custody', 5354), ('one', 5007)]\n"
     ]
    }
   ],
   "source": [
    "word_freq = FreqDist(all_words) # Calculates the frequency of each word\n",
    "print(word_freq.most_common(20)) # 20 most frequent words:"
   ]
  },
  {
   "cell_type": "code",
   "execution_count": 9,
   "metadata": {},
   "outputs": [
    {
     "data": {
      "image/png": "[encoded data removed]",
      "text/plain": [
       "<Figure size 432x288 with 1 Axes>"
      ]
     },
     "metadata": {
      "needs_background": "light"
     },
     "output_type": "display_data"
    }
   ],
   "source": [
    "# Plot them:\n",
    "word_freq.plot(25, title=\"Top Frequency Words in Tweets about migration\")"
   ]
  },
  {
   "cell_type": "markdown",
   "metadata": {
    "collapsed": true
   },
   "source": [
    "## Explore the hashtags used in these tweets:"
   ]
  },
  {
   "cell_type": "code",
   "execution_count": 10,
   "metadata": {},
   "outputs": [
    {
     "name": "stdout",
     "output_type": "stream",
     "text": [
      "Total number of hashtags: 69825\n",
      "Number of unique hashtags: 10729\n"
     ]
    }
   ],
   "source": [
    "hashtags = []\n",
    "\n",
    "for tweet in tweets:\n",
    "    temp = [i for i in tweet.split() if i.startswith(\"#\")]\n",
    "    hts = [re.sub(r\"(\\W+)$\", \"\", j) for j in temp]\n",
    "    hashtags.extend(hts)\n",
    "    \n",
    "print(\"Total number of hashtags: {}\\nNumber of unique hashtags: {}\".format(len(hashtags), len(set(hashtags))))"
   ]
  },
  {
   "cell_type": "code",
   "execution_count": 11,
   "metadata": {},
   "outputs": [
    {
     "name": "stdout",
     "output_type": "stream",
     "text": [
      "Top 20 hashtags:  [('#migration', 1711), ('#BuildTheWall', 1264), ('#Migration', 956), ('#ma4t', 836), ('#migrant', 765), ('#Immigration', 696), ('#FoxNews', 689), ('#Venezuela', 678), ('#AsylumReformNow', 636), ('#TheResistance', 544), ('#CNN', 537), ('#BREAKING', 532), ('#MSNBC', 496), ('#Yahoo', 495), ('#FBRParty', 492), ('#DHS', 485), ('#MAGA', 469), ('#SundayThoughts', 431), ('#APeoplesJourney', 379), ('#Trump', 363)]\n"
     ]
    }
   ],
   "source": [
    "ht_count = Counter(hashtags)\n",
    "print(\"Top 20 hashtags: \", ht_count.most_common(20))"
   ]
  },
  {
   "cell_type": "markdown",
   "metadata": {},
   "source": [
    "- We could consider further editing this built-in stopwords list. For eg- pronouns might be something we don't want to skip (?) or add more custom_stopwords.\n",
    "- Tweets that begin with RT is a Retweet, and those that begin with @ is a Reply.\n",
    "- 79% are Retweets; 7% are Replies; and 14% are other (original) tweets.\n",
    "- #BuildTheWall is a pretty popular hashtag!\n",
    "- Trump, wall, security, border are among the most frequent words."
   ]
  }
 ],
 "metadata": {
  "kernelspec": {
   "display_name": "Python [conda env:py37]",
   "language": "python",
   "name": "conda-env-py37-py"
  },
  "language_info": {
   "codemirror_mode": {
    "name": "ipython",
    "version": 3
   },
   "file_extension": ".py",
   "mimetype": "text/x-python",
   "name": "python",
   "nbconvert_exporter": "python",
   "pygments_lexer": "ipython3",
   "version": "3.7.2"
  }
 },
 "nbformat": 4,
 "nbformat_minor": 2
}
