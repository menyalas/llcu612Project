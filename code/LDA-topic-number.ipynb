{
 "cells": [
  {
   "cell_type": "markdown",
   "metadata": {},
   "source": [
    "### This notebook assigns a topic number to each English-language tweet based on our pre-trained LDA model.\n",
    "- You can find the training code in <i>train_lda.py</i>"
   ]
  },
  {
   "cell_type": "code",
   "execution_count": 1,
   "metadata": {},
   "outputs": [
    {
     "name": "stdout",
     "output_type": "stream",
     "text": [
      "4 languages + custom stopwords, we have a total of 847 stopwords.\n",
      "('Number of tweets: ', 111785)\n"
     ]
    },
    {
     "name": "stderr",
     "output_type": "stream",
     "text": [
      "/home/ndg/users/sbagga1/.local/lib/python2.7/site-packages/requests/__init__.py:83: RequestsDependencyWarning: Old version of cryptography ([1, 2, 3]) may cause slowdown.\n",
      "  warnings.warn(warning, RequestsDependencyWarning)\n"
     ]
    }
   ],
   "source": [
    "import pandas as pd\n",
    "import gensim\n",
    "\n",
    "from gensim.test.utils import datapath\n",
    "\n",
    "from nltk.stem.wordnet import WordNetLemmatizer\n",
    "from nltk.corpus import stopwords\n",
    "from nltk.tokenize import word_tokenize\n",
    "lemmatizer = WordNetLemmatizer()\n",
    "\n",
    "# Load the DataFrame:\n",
    "main_df = pd.read_csv('./20190406_AM_Data.csv')\n",
    "\n",
    "# Filter by english language:\n",
    "df = main_df.loc[main_df['tweetLang'].str.startswith('en')]\n",
    "\n",
    "# Get tweets:\n",
    "tweets = df['tweetText'].tolist()\n",
    "\n",
    "# Prepare stopwords list from four languages + some custom words:\n",
    "languages = ['english', 'french', 'german', 'spanish']\n",
    "STOPWORDS = []\n",
    "for lang in languages:\n",
    "    STOPWORDS.extend(stopwords.words(lang))\n",
    "custom_stopwords = [\"amp\", \"n't\", \"rt\", \"http\", \"https\", \"migration\", \"migrant\"]\n",
    "STOPWORDS.extend(custom_stopwords)\n",
    "STOPWORDS = set(STOPWORDS)\n",
    "print(\"4 languages + custom stopwords, we have a total of {} stopwords.\".format(len(STOPWORDS)))\n",
    "\n",
    "\n",
    "def pre_process_text(tweet):\n",
    "    \"\"\"\n",
    "    Takes in a tweet as input. Returns the processed tweet as a list of words.\n",
    "    Processing steps include: word tokenization, lowercase, stopword removal, lemmatization.\n",
    "    \"\"\"\n",
    "    output_words = []\n",
    "    \n",
    "    # Tokenize:\n",
    "    words = word_tokenize(unicode(tweet, errors='ignore'))\n",
    "    \n",
    "    for word in words:\n",
    "        word = word.lower() # lowercase\n",
    "        if word[0].isalpha() and word not in STOPWORDS: # stopword removal\n",
    "            w = lemmatizer.lemmatize(word) # lemmatization\n",
    "            output_words.append(w)\n",
    "    \n",
    "    return output_words\n",
    "\n",
    "\n",
    "\n",
    "processed_tweets = []\n",
    "for tweet in tweets:\n",
    "    processed_tweets.append(pre_process_text(tweet))\n",
    "    \n",
    "print(\"Number of tweets: \", len(processed_tweets))"
   ]
  },
  {
   "cell_type": "code",
   "execution_count": 2,
   "metadata": {},
   "outputs": [
    {
     "name": "stdout",
     "output_type": "stream",
     "text": [
      "[[(0, 1), (1, 1), (2, 1), (3, 1), (4, 1), (5, 1), (6, 1), (7, 1), (8, 1), (9, 1), (10, 1), (11, 1), (12, 1), (13, 1), (14, 1), (15, 1), (16, 1), (17, 1), (18, 1), (19, 1), (20, 1), (21, 1), (22, 1), (23, 1), (24, 1), (25, 1)]]\n"
     ]
    }
   ],
   "source": [
    "# Create Dictionary\n",
    "id2word = gensim.corpora.Dictionary(processed_tweets)\n",
    "\n",
    "# Create Corpus\n",
    "texts = processed_tweets\n",
    "\n",
    "# Term Document Frequency\n",
    "corpus = [id2word.doc2bow(text) for text in texts]\n",
    "\n",
    "# View\n",
    "print(corpus[:1])"
   ]
  },
  {
   "cell_type": "code",
   "execution_count": 3,
   "metadata": {},
   "outputs": [
    {
     "data": {
      "text/plain": [
       "[(0,\n",
       "  u'0.016*\"group\" + 0.016*\"get\" + 0.015*\"watch\" + 0.014*\"american\" + 0.012*\"new\" + 0.011*\"refugee\" + 0.011*\"crisis\" + 0.011*\"people\" + 0.011*\"right\" + 0.010*\"guess\"'),\n",
       " (1,\n",
       "  u'0.029*\"caravan\" + 0.025*\"know\" + 0.025*\"trump\" + 0.016*\"family\" + 0.015*\"u\" + 0.015*\"prevent\" + 0.014*\"implement\" + 0.012*\"vote\" + 0.012*\"need\" + 0.011*\"today\"'),\n",
       " (2,\n",
       "  u'0.040*\"europe\" + 0.036*\"pact\" + 0.032*\"hungary\" + 0.032*\"voice\" + 0.031*\"brussels\" + 0.030*\"v_of_europe\" + 0.016*\"illegal\" + 0.016*\"life\" + 0.015*\"police\" + 0.013*\"street\"'),\n",
       " (3,\n",
       "  u'0.060*\"child\" + 0.019*\"gang\" + 0.016*\"free\" + 0.015*\"part\" + 0.014*\"say\" + 0.014*\"government\" + 0.013*\"u.s.\" + 0.013*\"youth\" + 0.013*\"worker\" + 0.013*\"salvadoran\"'),\n",
       " (4,\n",
       "  u'0.056*\"border\" + 0.042*\"law\" + 0.031*\"cross\" + 0.028*\"arizona\" + 0.028*\"via\" + 0.028*\"bus\" + 0.027*\"section\" + 0.027*\"unsecured\" + 0.027*\"unloads\" + 0.021*\"stop\"')]"
      ]
     },
     "execution_count": 3,
     "metadata": {},
     "output_type": "execute_result"
    }
   ],
   "source": [
    "# Load our trained LDA model:\n",
    "lda_model = gensim.models.LdaModel.load(datapath(\"5_topic_LDA_only_english_extra_stopwords\"))\n",
    "\n",
    "lda_model.print_topics()"
   ]
  },
  {
   "cell_type": "markdown",
   "metadata": {},
   "source": [
    "#### Each tweet is a distribution of topics. We pick the one with the highest proportion:"
   ]
  },
  {
   "cell_type": "code",
   "execution_count": 4,
   "metadata": {},
   "outputs": [],
   "source": [
    "map_tweetText_topicNumber = {}\n",
    "\n",
    "for index, tweet in enumerate(tweets):\n",
    "    topic_dist = lda_model.get_document_topics(corpus[index])\n",
    "\n",
    "    # topic_dist is a list of tuples: each tuple has a topic number with its corresponding proportion\n",
    "    sorted_topic_dist = sorted(topic_dist, key=lambda x: (x[1]), reverse=True) # Sort it in descending order\n",
    "    # Pick the top one:\n",
    "    topic_number = sorted_topic_dist[0][0]\n",
    "    map_tweetText_topicNumber[tweet] = topic_number"
   ]
  },
  {
   "cell_type": "code",
   "execution_count": 5,
   "metadata": {},
   "outputs": [],
   "source": [
    "main_df['topicNumber'] = main_df['tweetText'].map(map_tweetText_topicNumber)"
   ]
  },
  {
   "cell_type": "code",
   "execution_count": 6,
   "metadata": {},
   "outputs": [],
   "source": [
    "main_df.to_csv('./20190412_AM_Data.csv', index=None)"
   ]
  },
  {
   "cell_type": "markdown",
   "metadata": {},
   "source": [
    "## fin."
   ]
  }
 ],
 "metadata": {
  "kernelspec": {
   "display_name": "Python 2",
   "language": "python",
   "name": "python2"
  },
  "language_info": {
   "codemirror_mode": {
    "name": "ipython",
    "version": 2
   },
   "file_extension": ".py",
   "mimetype": "text/x-python",
   "name": "python",
   "nbconvert_exporter": "python",
   "pygments_lexer": "ipython2",
   "version": "2.7.6"
  }
 },
 "nbformat": 4,
 "nbformat_minor": 1
}
